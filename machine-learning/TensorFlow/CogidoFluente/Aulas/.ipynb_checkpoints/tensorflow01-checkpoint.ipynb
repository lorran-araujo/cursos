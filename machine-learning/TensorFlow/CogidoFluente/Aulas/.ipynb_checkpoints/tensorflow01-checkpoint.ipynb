{
  "nbformat": 4,
  "nbformat_minor": 0,
  "metadata": {
    "colab": {
      "provenance": []
    },
    "kernelspec": {
      "name": "python3",
      "display_name": "Python 3"
    }
  },
  "cells": [
    {
      "cell_type": "markdown",
      "metadata": {
        "id": "LWpFfw10Gq1J"
      },
      "source": [
        "# Tensorflow 1"
      ]
    },
    {
      "cell_type": "markdown",
      "metadata": {
        "id": "XsX7d_y8KU5r"
      },
      "source": [
        "## Se quiser descomentar e rodar, selecione as linhas comentadas e tecle: 'ctrl' e ';'"
      ]
    },
    {
      "cell_type": "code",
      "metadata": {
        "id": "9oS2RAS3F_XB",
        "colab": {
          "base_uri": "https://localhost:8080/"
        },
        "outputId": "e610bb8e-789e-40fe-de56-7822bfbdf16e"
      },
      "source": [
        "import tensorflow.compat.v1 as tf\n",
        "tf.disable_v2_behavior()\n",
        "msg = tf.constant('Hello, TensorFlow!')\n",
        "sess = tf.Session()\n",
        "print(sess.run(msg).decode(\"utf-8\"))"
      ],
      "execution_count": 1,
      "outputs": [
        {
          "output_type": "stream",
          "name": "stderr",
          "text": [
            "WARNING:tensorflow:From /usr/local/lib/python3.10/dist-packages/tensorflow/python/compat/v2_compat.py:108: disable_resource_variables (from tensorflow.python.ops.variable_scope) is deprecated and will be removed in a future version.\n",
            "Instructions for updating:\n",
            "non-resource variables are not supported in the long term\n"
          ]
        },
        {
          "output_type": "stream",
          "name": "stdout",
          "text": [
            "Hello, TensorFlow!\n"
          ]
        }
      ]
    },
    {
      "cell_type": "markdown",
      "metadata": {
        "id": "8J-pmGYgMgpw"
      },
      "source": [
        "## Multiplicação de dois tensores"
      ]
    },
    {
      "cell_type": "code",
      "metadata": {
        "id": "sTkYG56CGy1T",
        "colab": {
          "base_uri": "https://localhost:8080/"
        },
        "outputId": "6a35a89f-4c7d-4548-ce2c-c01180086c07"
      },
      "source": [
        "import tensorflow.compat.v1 as tf\n",
        "tf.disable_v2_behavior()\n",
        "import numpy as np\n",
        "\n",
        "a = tf.constant([ [1.0, 2.0], [3.0, 4.0] ])\n",
        "b = tf.constant([ [5.0, 6.0], [7.0, 8.0] ])\n",
        "c = tf.matmul(a,b)\n",
        "\n",
        "sess = tf.Session()\n",
        "print(sess.run(c))\n"
      ],
      "execution_count": null,
      "outputs": [
        {
          "output_type": "stream",
          "text": [
            "WARNING:tensorflow:From /usr/local/lib/python3.6/dist-packages/tensorflow/python/compat/v2_compat.py:96: disable_resource_variables (from tensorflow.python.ops.variable_scope) is deprecated and will be removed in a future version.\n",
            "Instructions for updating:\n",
            "non-resource variables are not supported in the long term\n",
            "[[19. 22.]\n",
            " [43. 50.]]\n"
          ],
          "name": "stdout"
        }
      ]
    },
    {
      "cell_type": "markdown",
      "metadata": {
        "id": "xciKZfTILAsx"
      },
      "source": [
        "Cria o tensor 'a', mas, sem valores, só com o placeholder.\n",
        "<br />Ao 'b' é atribuído o resultado da multiplicação de 'a' com ele mesmo."
      ]
    },
    {
      "cell_type": "code",
      "metadata": {
        "id": "-YrePksI9787",
        "colab": {
          "base_uri": "https://localhost:8080/"
        },
        "outputId": "a90e7911-8c5f-49eb-e0a8-d868a051f71d"
      },
      "source": [
        "a = tf.compat.v1.placeholder(tf.compat.v1.float32 , shape=(3,3))\n",
        "b = tf.compat.v1.matmul(a, a)\n",
        "rand_array = np.random.rand(3,3)\n",
        "sess = tf.Session()\n",
        "result = sess.run(b, feed_dict={a: rand_array})\n",
        "print(result)"
      ],
      "execution_count": null,
      "outputs": [
        {
          "output_type": "stream",
          "text": [
            "[[0.43938565 1.5428878  0.7549277 ]\n",
            " [0.08566794 0.9566614  0.7639752 ]\n",
            " [0.26222217 1.2860949  1.1241741 ]]\n"
          ],
          "name": "stdout"
        }
      ]
    },
    {
      "cell_type": "markdown",
      "metadata": {
        "id": "5PVnR2Z-L_cF"
      },
      "source": [
        "# Plotando os dados"
      ]
    },
    {
      "cell_type": "code",
      "metadata": {
        "id": "L73Nktvr2c8J",
        "colab": {
          "base_uri": "https://localhost:8080/",
          "height": 283
        },
        "outputId": "1af016f8-59df-4bc8-94d0-b4b3f506a3c4"
      },
      "source": [
        "import matplotlib.pyplot as plt\n",
        "import sklearn.datasets\n",
        "\n",
        "#Setando o seed para gerar sempre a mesma coisa\n",
        "tf.set_random_seed(2)\n",
        "np.random.seed(2)\n",
        "\n",
        "#gerando o dataset\n",
        "dataset_X , dataset_Y = sklearn.datasets.make_circles(n_samples=200, shuffle=True, noise=0.02, random_state=7, factor=0.9)\n",
        "#plotando o dataset\n",
        "plt.scatter(dataset_X[:,0], dataset_X[:,1], s=40, c=dataset_Y, cmap=plt.cm.Spectral)"
      ],
      "execution_count": null,
      "outputs": [
        {
          "output_type": "execute_result",
          "data": {
            "text/plain": [
              "<matplotlib.collections.PathCollection at 0x7f8f55d33d30>"
            ]
          },
          "metadata": {
            "tags": []
          },
          "execution_count": 7
        },
        {
          "output_type": "display_data",
          "data": {
            "image/png": "[encoded data removed]",
            "text/plain": [
              "<Figure size 432x288 with 1 Axes>"
            ]
          },
          "metadata": {
            "tags": [],
            "needs_background": "light"
          }
        }
      ]
    },
    {
      "cell_type": "markdown",
      "metadata": {
        "id": "P9-59tePMGGo"
      },
      "source": [
        "# Função que constroi a rede neural"
      ]
    },
    {
      "cell_type": "markdown",
      "metadata": {
        "id": "uxSTrXuGg-Dt"
      },
      "source": [
        "A função **build_net()** recebe como parâmetro a quantidade de features e classes usadas\n",
        "no problema, neste caso, tanto a quantidade de features quanto a de classes são\n",
        "iguais a 2."
      ]
    },
    {
      "cell_type": "code",
      "metadata": {
        "id": "nVax6RpQSQBU"
      },
      "source": [
        "def build_net(n_features , n_classes):\n",
        "  # Placeholders\n",
        "  # shape=[None] indica que o batch pode ser de qualquer tamanho\n",
        "  X_placeholder = tf.placeholder(dtype=tf.float32 , shape=[None , n_features])\n",
        "  Y_placeholder = tf.placeholder(dtype=tf.int64 , shape=[None])\n",
        "  # X_placeholder é camada de entrada da rede\n",
        "  # Y_placeholder é o vetor que contém os labels do dataset\n",
        "  # eles serão utilizados para comparação com a saída da rede.\n",
        "\n",
        "  #camada oculta\n",
        "  #O segundo argumento (100) é o número de neurônios / nós da camada.\n",
        "  layer1 = tf.layers.dense(X_placeholder , 100, activation=tf.nn.relu)\n",
        "  # relu é a função não linear, para que a rede não fique travada\n",
        "  # ao tentar realizar a regressão linear em um problema não linear\n",
        "\n",
        "  #camada de saída\n",
        "  out = tf.layers.dense(layer1 , n_classes , name=\"output\")\n",
        "\n",
        "  #adaptando o vetor Y para o modelo One−Hot Label\n",
        "  one_hot = tf.one_hot(Y_placeholder , depth=n_classes)\n",
        "  # O vetor de labels, o Y_placeholder, é convertido para o formato OneHot\n",
        "  # (por exemplo,  a label 0 se torna o vetor [1,0] e o label 1 se torna\n",
        "  # o vetor [0,1]), dessa forma é possível a comparação com a saída da rede.\n",
        "\n",
        "  #função de perda/custo/erro\n",
        "  loss = tf.losses.softmax_cross_entropy(onehot_labels=one_hot , logits=out)\n",
        "  # a função Entropia Cruzada é usada em conjunto com uma camada softmax\n",
        "  # logits são os valores a serem usados ​​como entrada para softmax\n",
        "  # Logit é uma função que mapeia probabilidades [0, 1]para [-inf, +inf].\n",
        "  # Softmax é uma função que mapeia [-inf, +inf] para [0, 1] semelhante à sigmóide.\n",
        "  # Estamos aplicando a função softmax aos números logit para normalizá-los.\n",
        "\n",
        "  #otimizador\n",
        "  opt = tf.train.GradientDescentOptimizer(learning_rate =0.07). minimize(loss)\n",
        "  # quanto menor o learning_rate mais demorado\n",
        "\n",
        "  #classe do exemplo\n",
        "  softmax = tf.nn.softmax(out)\n",
        "  # Retorna um tensor, tem o mesmo tipo e formato dos logits (out), ele apenas\n",
        "  # normaliza os valores.\n",
        "  # As saídas do softmax podem ser interpretadas como probabilidades.\n",
        "  # Levanta um InvalidArgumentError se os logits estiverem vazios ou\n",
        "  # o eixo estiver além da última dimensão dos logits.\n",
        "\n",
        "\n",
        "  class_ = tf.argmax(softmax, axis=1)\n",
        "  # tensores que classificam um exemplo de entrada da rede\n",
        "  # argmax retorna o índice com o maior valor entre os eixos de um tensor\n",
        "  # axis: 0 significa coluna por coluna, 1 significa linha por linha\n",
        "\n",
        "  # Acurácia\n",
        "  # tensores que calculam a acurácia da rede\n",
        "  compare_prediction = tf.equal(class_ , Y_placeholder)\n",
        "  # equal retorna o valor true de (x == y).\n",
        "  accuracy = tf.reduce_mean(tf.cast(compare_prediction , tf.float32))\n",
        "  # reduce_mean calcula a média dos elementos nas dimensões de um tensor.\n",
        "\n",
        "  return X_placeholder , Y_placeholder , loss , opt, class_ , accuracy\n",
        "\n",
        ""
      ],
      "execution_count": null,
      "outputs": []
    },
    {
      "cell_type": "markdown",
      "metadata": {
        "id": "v89tFLGCL7a4"
      },
      "source": [
        "# Inicia a sessão, obtem o número de features e carrega o modelo"
      ]
    },
    {
      "cell_type": "code",
      "metadata": {
        "id": "lJ48M-3TaLBV",
        "colab": {
          "base_uri": "https://localhost:8080/"
        },
        "outputId": "2ecf4600-0582-45be-c75d-ec4129db050b"
      },
      "source": [
        "#iniciando a sessão\n",
        "sess = tf.InteractiveSession()\n",
        "#numero de classes do problema\n",
        "num_classes = 2\n",
        "#obtendo o número de features\n",
        "n_features = dataset_X.shape[1]\n",
        "\n",
        "#carregando o modelo\n",
        "X_placeholder , Y_placeholder , loss , opt, class_ , accuracy = build_net(n_features, num_classes)\n",
        "#inicializando as variáveis\n",
        "sess.run(tf.global_variables_initializer())"
      ],
      "execution_count": null,
      "outputs": [
        {
          "output_type": "stream",
          "text": [
            "WARNING:tensorflow:From <ipython-input-3-6ce9351272fc>:12: dense (from tensorflow.python.keras.legacy_tf_layers.core) is deprecated and will be removed in a future version.\n",
            "Instructions for updating:\n",
            "Use keras.layers.Dense instead.\n",
            "WARNING:tensorflow:From /usr/local/lib/python3.6/dist-packages/tensorflow/python/keras/legacy_tf_layers/core.py:187: Layer.apply (from tensorflow.python.keras.engine.base_layer_v1) is deprecated and will be removed in a future version.\n",
            "Instructions for updating:\n",
            "Please use `layer.__call__` method instead.\n"
          ],
          "name": "stdout"
        }
      ]
    },
    {
      "cell_type": "markdown",
      "metadata": {
        "id": "2VQcnfRhMPTK"
      },
      "source": [
        "# Função para desenhar o separador"
      ]
    },
    {
      "cell_type": "code",
      "metadata": {
        "id": "P-PSxnK5Z9yE"
      },
      "source": [
        "def draw_separator(X, Y, sess, X_placeholder, class_):\n",
        "    x_min, x_max = X[:, 0].min() - 0.3 , X[:, 0].max() + 0.3\n",
        "    # pega todos da primeira coluna(0)\n",
        "    # defina os valores mínimo e máximo e fornece algum espaçamento\n",
        "\n",
        "    y_min, y_max = X[:, 1].min() - 0.3 , X[:, 1].max() + 0.3\n",
        "    # pega todos da segunda coluna(1)\n",
        "\n",
        "    h = 0.01\n",
        "    xx, yy = np.meshgrid(np.arange(x_min, x_max, h),\n",
        "                     np.arange(y_min, y_max, h))\n",
        "\n",
        "    # class_ são as classes retornadas pela argmax\n",
        "    Z = sess.run(class_, feed_dict={X_placeholder:np.c_[xx.ravel(), yy.ravel()] })\n",
        "\n",
        "    # Coloca o resultado em um gráfico de cores\n",
        "    Z = Z.reshape(xx.shape)\n",
        "    plt.contourf(xx, yy, Z, cmap=plt.cm.Spectral)\n",
        "    plt.axis('on')\n",
        "\n",
        "    # Plota também os pontos de treinamento\n",
        "    plt.scatter(X[:, 0], X[:, 1], s=40, c=Y, cmap=plt.cm.Spectral)\n"
      ],
      "execution_count": null,
      "outputs": []
    },
    {
      "cell_type": "markdown",
      "metadata": {
        "id": "AuryBxpkMZWj"
      },
      "source": [
        "# Define o número de épocas\n",
        "Treinamento da rede, um laço executa o treinamento da rede mil vezes (mil épocas) usando todo o dataset."
      ]
    },
    {
      "cell_type": "markdown",
      "metadata": {
        "id": "shshFnFsjxfg"
      },
      "source": [
        "## Obs.\n",
        "Como o tamanho do dataset, neste exemplo, é pequeno, o método de dividir o dataset em lotes não é usado."
      ]
    },
    {
      "cell_type": "code",
      "metadata": {
        "id": "azYtY6FMaAIP",
        "colab": {
          "base_uri": "https://localhost:8080/",
          "height": 483
        },
        "outputId": "7c49220e-ec86-4b78-9eb5-65647b2c73e5"
      },
      "source": [
        "#definindo o numero de épocas\n",
        "epochs = 1000\n",
        "for i in range(epochs):\n",
        "  #treinamento (OBS: mini−batch não usado por causa do tamanho pequeno do dataset)\n",
        "  sess.run(opt, feed_dict={X_placeholder: dataset_X , Y_placeholder: dataset_Y})\n",
        "\n",
        "  #a cada 100 épocas o erro é impresso\n",
        "  if i % 100 == 0:\n",
        "    erro_train = sess.run(loss , feed_dict={X_placeholder: dataset_X, Y_placeholder: dataset_Y})\n",
        "    print(\"O erro na epoca\", i,\":\", erro_train)\n",
        "\n",
        "# calculando a acurácia\n",
        "acc = sess.run(accuracy , feed_dict={X_placeholder: dataset_X, Y_placeholder: dataset_Y})\n",
        "print(\"accuracia do modelo:\", acc)\n",
        "# O feed_dict define um valor para o tensor\n",
        "cla = sess.run(class_ , feed_dict={X_placeholder: dataset_X[:1]})\n",
        "print(\"a classe do ponto\", dataset_X[:1], \"e:\", cla)\n",
        "\n",
        "# desenhando o separador\n",
        "draw_separator(dataset_X , dataset_Y , sess , X_placeholder , class_)"
      ],
      "execution_count": null,
      "outputs": [
        {
          "output_type": "stream",
          "text": [
            "O erro na epoca 0 : 0.6547767\n",
            "O erro na epoca 100 : 0.6486947\n",
            "O erro na epoca 200 : 0.6426584\n",
            "O erro na epoca 300 : 0.63658655\n",
            "O erro na epoca 400 : 0.63007826\n",
            "O erro na epoca 500 : 0.62275076\n",
            "O erro na epoca 600 : 0.6153163\n",
            "O erro na epoca 700 : 0.60744095\n",
            "O erro na epoca 800 : 0.599036\n",
            "O erro na epoca 900 : 0.5901065\n",
            "accuracia do modelo: 0.975\n",
            "a classe do ponto [[ 0.67559685 -0.76571585]] e: [0]\n"
          ],
          "name": "stdout"
        },
        {
          "output_type": "display_data",
          "data": {
            "image/png": "[encoded data removed]",
            "text/plain": [
              "<Figure size 432x288 with 1 Axes>"
            ]
          },
          "metadata": {
            "tags": [],
            "needs_background": "light"
          }
        }
      ]
    }
  ]
}