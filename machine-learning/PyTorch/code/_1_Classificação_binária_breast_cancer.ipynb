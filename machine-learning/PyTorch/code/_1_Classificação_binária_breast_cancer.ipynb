{
  "cells": [
    {
      "cell_type": "markdown",
      "metadata": {
        "id": "rD_RSER5Lkb5"
      },
      "source": [
        "# Projeto 1: Classificação binária brest cancer"
      ]
    },
    {
      "cell_type": "markdown",
      "metadata": {
        "id": "5tP2BcEILoLB"
      },
      "source": [
        "## Etapa 1: Importação das bibliotecas"
      ]
    },
    {
      "cell_type": "code",
      "execution_count": 2,
      "metadata": {
        "id": "B1WlABbCcw2B"
      },
      "outputs": [],
      "source": [
        "import pandas as pd\n",
        "from sklearn.model_selection import train_test_split\n",
        "import numpy as np\n",
        "import seaborn as sns\n",
        "from sklearn.metrics import confusion_matrix, accuracy_score"
      ]
    },
    {
      "cell_type": "code",
      "execution_count": 4,
      "metadata": {
        "colab": {
          "base_uri": "https://localhost:8080/",
          "height": 36
        },
        "id": "b85d_o8BdFub",
        "outputId": "16479416-e771-474a-d1bc-138ac74bde20"
      },
      "outputs": [
        {
          "data": {
            "text/plain": [
              "'2.4.0+cu121'"
            ]
          },
          "execution_count": 4,
          "metadata": {},
          "output_type": "execute_result"
        }
      ],
      "source": [
        "import torch\n",
        "torch.__version__\n",
        "#!pip install torch==1.4.0"
      ]
    },
    {
      "cell_type": "code",
      "execution_count": 5,
      "metadata": {
        "id": "UVO3Mj3qdjru"
      },
      "outputs": [],
      "source": [
        "import torch.nn as nn"
      ]
    },
    {
      "cell_type": "markdown",
      "metadata": {
        "id": "C0SD4dJ4MDMN"
      },
      "source": [
        "## Etapa 2: Base de dados"
      ]
    },
    {
      "cell_type": "code",
      "execution_count": 6,
      "metadata": {
        "colab": {
          "base_uri": "https://localhost:8080/"
        },
        "id": "i81g-4ADedrN",
        "outputId": "76af8a03-e3e3-480d-ecbf-8c99550a6bd2"
      },
      "outputs": [
        {
          "data": {
            "text/plain": [
              "<torch._C.Generator at 0x7ff953d51570>"
            ]
          },
          "execution_count": 6,
          "metadata": {},
          "output_type": "execute_result"
        }
      ],
      "source": [
        "# setando semente aleatória\n",
        "np.random.seed(123)\n",
        "torch.manual_seed(123)"
      ]
    },
    {
      "cell_type": "code",
      "execution_count": 9,
      "metadata": {
        "colab": {
          "base_uri": "https://localhost:8080/",
          "height": 304
        },
        "id": "PjbIvUYwfBH8",
        "outputId": "93be29e8-3764-4ca7-832a-840345f2bf44"
      },
      "outputs": [],
      "source": [
        "previsores = pd.read_csv('./content/entradas-breast.csv')\n",
        "classe = pd.read_csv('./content/saidas-breast.csv')"
      ]
    },
    {
      "cell_type": "code",
      "execution_count": 11,
      "metadata": {
        "colab": {
          "base_uri": "https://localhost:8080/",
          "height": 35
        },
        "id": "yFDDZfZTfOq5",
        "outputId": "5622094f-fec7-4460-caed-5aaf59a2e79f"
      },
      "outputs": [
        {
          "data": {
            "text/plain": [
              "(569, 30)"
            ]
          },
          "execution_count": 11,
          "metadata": {},
          "output_type": "execute_result"
        }
      ],
      "source": [
        "previsores.shape"
      ]
    },
    {
      "cell_type": "code",
      "execution_count": 12,
      "metadata": {
        "colab": {
          "base_uri": "https://localhost:8080/",
          "height": 218
        },
        "id": "rqiQvr3HfUc4",
        "outputId": "c6c00224-a15f-45fc-dda8-68f96bacc43a"
      },
      "outputs": [
        {
          "data": {
            "text/html": [
              "<div>\n",
              "<style scoped>\n",
              "    .dataframe tbody tr th:only-of-type {\n",
              "        vertical-align: middle;\n",
              "    }\n",
              "\n",
              "    .dataframe tbody tr th {\n",
              "        vertical-align: top;\n",
              "    }\n",
              "\n",
              "    .dataframe thead th {\n",
              "        text-align: right;\n",
              "    }\n",
              "</style>\n",
              "<table border=\"1\" class=\"dataframe\">\n",
              "  <thead>\n",
              "    <tr style=\"text-align: right;\">\n",
              "      <th></th>\n",
              "      <th>radius_mean</th>\n",
              "      <th>texture_mean</th>\n",
              "      <th>perimeter_mean</th>\n",
              "      <th>area_mean</th>\n",
              "      <th>smoothness_mean</th>\n",
              "      <th>compactness_mean</th>\n",
              "      <th>concavity_mean</th>\n",
              "      <th>concave_points_mean</th>\n",
              "      <th>symmetry_mean</th>\n",
              "      <th>fractal_dimension_mean</th>\n",
              "      <th>...</th>\n",
              "      <th>radius_worst</th>\n",
              "      <th>texture_worst</th>\n",
              "      <th>perimeter_worst</th>\n",
              "      <th>area_worst</th>\n",
              "      <th>smoothness_worst</th>\n",
              "      <th>compactness_worst</th>\n",
              "      <th>concavity_worst</th>\n",
              "      <th>concave_points_worst</th>\n",
              "      <th>symmetry_worst</th>\n",
              "      <th>fractal_dimension_worst</th>\n",
              "    </tr>\n",
              "  </thead>\n",
              "  <tbody>\n",
              "    <tr>\n",
              "      <th>0</th>\n",
              "      <td>17.99</td>\n",
              "      <td>10.38</td>\n",
              "      <td>122.80</td>\n",
              "      <td>1001.0</td>\n",
              "      <td>0.11840</td>\n",
              "      <td>0.27760</td>\n",
              "      <td>0.3001</td>\n",
              "      <td>0.14710</td>\n",
              "      <td>0.2419</td>\n",
              "      <td>0.07871</td>\n",
              "      <td>...</td>\n",
              "      <td>25.38</td>\n",
              "      <td>17.33</td>\n",
              "      <td>184.60</td>\n",
              "      <td>2019.0</td>\n",
              "      <td>0.1622</td>\n",
              "      <td>0.6656</td>\n",
              "      <td>0.7119</td>\n",
              "      <td>0.2654</td>\n",
              "      <td>0.4601</td>\n",
              "      <td>0.11890</td>\n",
              "    </tr>\n",
              "    <tr>\n",
              "      <th>1</th>\n",
              "      <td>20.57</td>\n",
              "      <td>17.77</td>\n",
              "      <td>132.90</td>\n",
              "      <td>1326.0</td>\n",
              "      <td>0.08474</td>\n",
              "      <td>0.07864</td>\n",
              "      <td>0.0869</td>\n",
              "      <td>0.07017</td>\n",
              "      <td>0.1812</td>\n",
              "      <td>0.05667</td>\n",
              "      <td>...</td>\n",
              "      <td>24.99</td>\n",
              "      <td>23.41</td>\n",
              "      <td>158.80</td>\n",
              "      <td>1956.0</td>\n",
              "      <td>0.1238</td>\n",
              "      <td>0.1866</td>\n",
              "      <td>0.2416</td>\n",
              "      <td>186.0000</td>\n",
              "      <td>275.0000</td>\n",
              "      <td>0.08902</td>\n",
              "    </tr>\n",
              "    <tr>\n",
              "      <th>2</th>\n",
              "      <td>19.69</td>\n",
              "      <td>21.25</td>\n",
              "      <td>130.00</td>\n",
              "      <td>1203.0</td>\n",
              "      <td>0.10960</td>\n",
              "      <td>0.15990</td>\n",
              "      <td>0.1974</td>\n",
              "      <td>0.12790</td>\n",
              "      <td>0.2069</td>\n",
              "      <td>0.05999</td>\n",
              "      <td>...</td>\n",
              "      <td>23.57</td>\n",
              "      <td>25.53</td>\n",
              "      <td>152.50</td>\n",
              "      <td>1709.0</td>\n",
              "      <td>0.1444</td>\n",
              "      <td>0.4245</td>\n",
              "      <td>0.4504</td>\n",
              "      <td>243.0000</td>\n",
              "      <td>0.3613</td>\n",
              "      <td>0.08758</td>\n",
              "    </tr>\n",
              "    <tr>\n",
              "      <th>3</th>\n",
              "      <td>11.42</td>\n",
              "      <td>20.38</td>\n",
              "      <td>77.58</td>\n",
              "      <td>386.1</td>\n",
              "      <td>0.14250</td>\n",
              "      <td>0.28390</td>\n",
              "      <td>0.2414</td>\n",
              "      <td>0.10520</td>\n",
              "      <td>0.2597</td>\n",
              "      <td>0.09744</td>\n",
              "      <td>...</td>\n",
              "      <td>14.91</td>\n",
              "      <td>26.50</td>\n",
              "      <td>98.87</td>\n",
              "      <td>567.7</td>\n",
              "      <td>0.2098</td>\n",
              "      <td>0.8663</td>\n",
              "      <td>0.6869</td>\n",
              "      <td>0.2575</td>\n",
              "      <td>0.6638</td>\n",
              "      <td>173.00000</td>\n",
              "    </tr>\n",
              "    <tr>\n",
              "      <th>4</th>\n",
              "      <td>20.29</td>\n",
              "      <td>14.34</td>\n",
              "      <td>135.10</td>\n",
              "      <td>1297.0</td>\n",
              "      <td>0.10030</td>\n",
              "      <td>0.13280</td>\n",
              "      <td>198.0000</td>\n",
              "      <td>0.10430</td>\n",
              "      <td>0.1809</td>\n",
              "      <td>0.05883</td>\n",
              "      <td>...</td>\n",
              "      <td>22.54</td>\n",
              "      <td>16.67</td>\n",
              "      <td>152.20</td>\n",
              "      <td>1575.0</td>\n",
              "      <td>0.1374</td>\n",
              "      <td>205.0000</td>\n",
              "      <td>0.4000</td>\n",
              "      <td>0.1625</td>\n",
              "      <td>0.2364</td>\n",
              "      <td>0.07678</td>\n",
              "    </tr>\n",
              "  </tbody>\n",
              "</table>\n",
              "<p>5 rows × 30 columns</p>\n",
              "</div>"
            ],
            "text/plain": [
              "    radius_mean   texture_mean   perimeter_mean   area_mean   smoothness_mean  \\\n",
              "0         17.99          10.38           122.80      1001.0           0.11840   \n",
              "1         20.57          17.77           132.90      1326.0           0.08474   \n",
              "2         19.69          21.25           130.00      1203.0           0.10960   \n",
              "3         11.42          20.38            77.58       386.1           0.14250   \n",
              "4         20.29          14.34           135.10      1297.0           0.10030   \n",
              "\n",
              "    compactness_mean   concavity_mean  concave_points_mean   symmetry_mean  \\\n",
              "0            0.27760           0.3001              0.14710          0.2419   \n",
              "1            0.07864           0.0869              0.07017          0.1812   \n",
              "2            0.15990           0.1974              0.12790          0.2069   \n",
              "3            0.28390           0.2414              0.10520          0.2597   \n",
              "4            0.13280         198.0000              0.10430          0.1809   \n",
              "\n",
              "    fractal_dimension_mean  ...   radius_worst   texture_worst  \\\n",
              "0                  0.07871  ...          25.38           17.33   \n",
              "1                  0.05667  ...          24.99           23.41   \n",
              "2                  0.05999  ...          23.57           25.53   \n",
              "3                  0.09744  ...          14.91           26.50   \n",
              "4                  0.05883  ...          22.54           16.67   \n",
              "\n",
              "    perimeter_worst   area_worst   smoothness_worst   compactness_worst  \\\n",
              "0            184.60       2019.0             0.1622              0.6656   \n",
              "1            158.80       1956.0             0.1238              0.1866   \n",
              "2            152.50       1709.0             0.1444              0.4245   \n",
              "3             98.87        567.7             0.2098              0.8663   \n",
              "4            152.20       1575.0             0.1374            205.0000   \n",
              "\n",
              "    concavity_worst   concave_points_worst   symmetry_worst  \\\n",
              "0            0.7119                 0.2654           0.4601   \n",
              "1            0.2416               186.0000         275.0000   \n",
              "2            0.4504               243.0000           0.3613   \n",
              "3            0.6869                 0.2575           0.6638   \n",
              "4            0.4000                 0.1625           0.2364   \n",
              "\n",
              "    fractal_dimension_worst  \n",
              "0                   0.11890  \n",
              "1                   0.08902  \n",
              "2                   0.08758  \n",
              "3                 173.00000  \n",
              "4                   0.07678  \n",
              "\n",
              "[5 rows x 30 columns]"
            ]
          },
          "execution_count": 12,
          "metadata": {},
          "output_type": "execute_result"
        }
      ],
      "source": [
        "previsores.head()"
      ]
    },
    {
      "cell_type": "code",
      "execution_count": 34,
      "metadata": {
        "colab": {
          "base_uri": "https://localhost:8080/",
          "height": 198
        },
        "id": "kKqSDj3bfdQB",
        "outputId": "8bc0596c-e2b5-4a90-9c43-de49542dd331"
      },
      "outputs": [
        {
          "data": {
            "text/html": [
              "<div>\n",
              "<style scoped>\n",
              "    .dataframe tbody tr th:only-of-type {\n",
              "        vertical-align: middle;\n",
              "    }\n",
              "\n",
              "    .dataframe tbody tr th {\n",
              "        vertical-align: top;\n",
              "    }\n",
              "\n",
              "    .dataframe thead th {\n",
              "        text-align: right;\n",
              "    }\n",
              "</style>\n",
              "<table border=\"1\" class=\"dataframe\">\n",
              "  <thead>\n",
              "    <tr style=\"text-align: right;\">\n",
              "      <th></th>\n",
              "      <th>0</th>\n",
              "    </tr>\n",
              "  </thead>\n",
              "  <tbody>\n",
              "    <tr>\n",
              "      <th>0</th>\n",
              "      <td>0</td>\n",
              "    </tr>\n",
              "    <tr>\n",
              "      <th>1</th>\n",
              "      <td>0</td>\n",
              "    </tr>\n",
              "    <tr>\n",
              "      <th>2</th>\n",
              "      <td>0</td>\n",
              "    </tr>\n",
              "    <tr>\n",
              "      <th>3</th>\n",
              "      <td>0</td>\n",
              "    </tr>\n",
              "    <tr>\n",
              "      <th>4</th>\n",
              "      <td>0</td>\n",
              "    </tr>\n",
              "    <tr>\n",
              "      <th>...</th>\n",
              "      <td>...</td>\n",
              "    </tr>\n",
              "    <tr>\n",
              "      <th>563</th>\n",
              "      <td>0</td>\n",
              "    </tr>\n",
              "    <tr>\n",
              "      <th>564</th>\n",
              "      <td>0</td>\n",
              "    </tr>\n",
              "    <tr>\n",
              "      <th>565</th>\n",
              "      <td>0</td>\n",
              "    </tr>\n",
              "    <tr>\n",
              "      <th>566</th>\n",
              "      <td>0</td>\n",
              "    </tr>\n",
              "    <tr>\n",
              "      <th>567</th>\n",
              "      <td>0</td>\n",
              "    </tr>\n",
              "  </tbody>\n",
              "</table>\n",
              "<p>212 rows × 1 columns</p>\n",
              "</div>"
            ],
            "text/plain": [
              "     0\n",
              "0    0\n",
              "1    0\n",
              "2    0\n",
              "3    0\n",
              "4    0\n",
              "..  ..\n",
              "563  0\n",
              "564  0\n",
              "565  0\n",
              "566  0\n",
              "567  0\n",
              "\n",
              "[212 rows x 1 columns]"
            ]
          },
          "execution_count": 34,
          "metadata": {},
          "output_type": "execute_result"
        }
      ],
      "source": [
        "selecao = classe['0'] == 0\n",
        "classe[selecao]"
      ]
    },
    {
      "cell_type": "code",
      "execution_count": 14,
      "metadata": {
        "colab": {
          "base_uri": "https://localhost:8080/",
          "height": 35
        },
        "id": "-jSqJh18fhL1",
        "outputId": "ade8bf7e-a224-41ee-8b0f-e68c2631ab4f"
      },
      "outputs": [
        {
          "data": {
            "text/plain": [
              "array([0, 1])"
            ]
          },
          "execution_count": 14,
          "metadata": {},
          "output_type": "execute_result"
        }
      ],
      "source": [
        "np.unique(classe)"
      ]
    },
    {
      "cell_type": "code",
      "execution_count": 36,
      "metadata": {
        "colab": {
          "base_uri": "https://localhost:8080/",
          "height": 279
        },
        "id": "aKLO9jX0fs-3",
        "outputId": "2bae8ac5-dc76-4b50-dd84-8f211c241c4d"
      },
      "outputs": [
        {
          "data": {
            "text/plain": [
              "<Axes: xlabel='0', ylabel='count'>"
            ]
          },
          "execution_count": 36,
          "metadata": {},
          "output_type": "execute_result"
        },
        {
          "data": {
            "image/png": "[encoded data removed]",
            "text/plain": [
              "<Figure size 640x480 with 1 Axes>"
            ]
          },
          "metadata": {},
          "output_type": "display_data"
        }
      ],
      "source": [
        "sns.countplot(x = classe['0'])"
      ]
    },
    {
      "cell_type": "code",
      "execution_count": 2,
      "metadata": {
        "id": "UX9ZDhUMgBsv"
      },
      "outputs": [
        {
          "ename": "NameError",
          "evalue": "name 'train_test_split' is not defined",
          "output_type": "error",
          "traceback": [
            "\u001b[0;31m---------------------------------------------------------------------------\u001b[0m",
            "\u001b[0;31mNameError\u001b[0m                                 Traceback (most recent call last)",
            "Cell \u001b[0;32mIn[2], line 1\u001b[0m\n\u001b[0;32m----> 1\u001b[0m previsores_treinamento, previsores_teste, classe_treinamento, classe_teste \u001b[38;5;241m=\u001b[39m \u001b[43mtrain_test_split\u001b[49m(previsores,\n\u001b[1;32m      2\u001b[0m                                                                                               classe,\n\u001b[1;32m      3\u001b[0m                                                                                               test_size \u001b[38;5;241m=\u001b[39m \u001b[38;5;241m0.25\u001b[39m)\n",
            "\u001b[0;31mNameError\u001b[0m: name 'train_test_split' is not defined"
          ]
        }
      ],
      "source": [
        "previsores_treinamento, previsores_teste, classe_treinamento, classe_teste = train_test_split(previsores,\n",
        "                                                                                              classe,\n",
        "                                                                                              test_size = 0.25)"
      ]
    },
    {
      "cell_type": "code",
      "execution_count": 1,
      "metadata": {
        "colab": {
          "base_uri": "https://localhost:8080/",
          "height": 35
        },
        "id": "7SEVQyX9gR4O",
        "outputId": "e17fe638-2fe2-4bf9-a153-387890b02a80"
      },
      "outputs": [
        {
          "ename": "NameError",
          "evalue": "name 'previsores_treinamento' is not defined",
          "output_type": "error",
          "traceback": [
            "\u001b[0;31m---------------------------------------------------------------------------\u001b[0m",
            "\u001b[0;31mNameError\u001b[0m                                 Traceback (most recent call last)",
            "Cell \u001b[0;32mIn[1], line 1\u001b[0m\n\u001b[0;32m----> 1\u001b[0m \u001b[38;5;28mtype\u001b[39m(\u001b[43mprevisores_treinamento\u001b[49m\u001b[38;5;241m.\u001b[39mshape)\n",
            "\u001b[0;31mNameError\u001b[0m: name 'previsores_treinamento' is not defined"
          ]
        }
      ],
      "source": [
        "type(previsores_treinamento.shape)"
      ]
    },
    {
      "cell_type": "code",
      "execution_count": 39,
      "metadata": {
        "colab": {
          "base_uri": "https://localhost:8080/",
          "height": 35
        },
        "id": "ZA6wrOMygUmg",
        "outputId": "c7b32dc3-aa6f-4657-b852-d227f5253807"
      },
      "outputs": [
        {
          "data": {
            "text/plain": [
              "(426, 1)"
            ]
          },
          "execution_count": 39,
          "metadata": {},
          "output_type": "execute_result"
        }
      ],
      "source": [
        "classe_treinamento.shape"
      ]
    },
    {
      "cell_type": "code",
      "execution_count": 41,
      "metadata": {
        "colab": {
          "base_uri": "https://localhost:8080/",
          "height": 35
        },
        "id": "SKyN_plmgZzH",
        "outputId": "9731a0e6-f5d9-46ed-ff82-65dfeb6dd14f"
      },
      "outputs": [
        {
          "data": {
            "text/plain": [
              "(143, 30)"
            ]
          },
          "execution_count": 41,
          "metadata": {},
          "output_type": "execute_result"
        }
      ],
      "source": [
        "previsores_teste.shape"
      ]
    },
    {
      "cell_type": "code",
      "execution_count": 42,
      "metadata": {
        "colab": {
          "base_uri": "https://localhost:8080/",
          "height": 35
        },
        "id": "wN_AXcfggdWC",
        "outputId": "003c4608-cf51-4bfe-f500-ea62d3dace01"
      },
      "outputs": [
        {
          "data": {
            "text/plain": [
              "(143, 1)"
            ]
          },
          "execution_count": 42,
          "metadata": {},
          "output_type": "execute_result"
        }
      ],
      "source": [
        "classe_teste.shape"
      ]
    },
    {
      "cell_type": "markdown",
      "metadata": {
        "id": "72uvlxJrOuWd"
      },
      "source": [
        "## Etapa 3: Transformação dos dados para tensores\n"
      ]
    },
    {
      "cell_type": "code",
      "execution_count": 43,
      "metadata": {
        "colab": {
          "base_uri": "https://localhost:8080/",
          "height": 35
        },
        "id": "nk5Gjgb7hBCo",
        "outputId": "3052a57a-3128-40df-e6ab-7afdd7600040"
      },
      "outputs": [
        {
          "data": {
            "text/plain": [
              "pandas.core.frame.DataFrame"
            ]
          },
          "execution_count": 43,
          "metadata": {},
          "output_type": "execute_result"
        }
      ],
      "source": [
        "type(previsores_treinamento)"
      ]
    },
    {
      "cell_type": "code",
      "execution_count": 44,
      "metadata": {
        "colab": {
          "base_uri": "https://localhost:8080/",
          "height": 35
        },
        "id": "aIzWASyMhMmy",
        "outputId": "e804d0cf-4d26-47e8-8604-80c9fb18967d"
      },
      "outputs": [
        {
          "data": {
            "text/plain": [
              "numpy.ndarray"
            ]
          },
          "execution_count": 44,
          "metadata": {},
          "output_type": "execute_result"
        }
      ],
      "source": [
        "type(np.array(previsores_treinamento))"
      ]
    },
    {
      "cell_type": "code",
      "execution_count": 45,
      "metadata": {
        "id": "hqPER9AYhTpt"
      },
      "outputs": [],
      "source": [
        "previsores_treinamento = torch.tensor(np.array(previsores_treinamento), dtype=torch.float)\n",
        "classe_treinamento = torch.tensor(np.array(classe_treinamento), dtype = torch.float)"
      ]
    },
    {
      "cell_type": "code",
      "execution_count": 46,
      "metadata": {
        "colab": {
          "base_uri": "https://localhost:8080/",
          "height": 35
        },
        "id": "u-2HrvEJh5Km",
        "outputId": "555eaae3-a9af-4e5d-902c-1d9f6a65b488"
      },
      "outputs": [
        {
          "data": {
            "text/plain": [
              "torch.Tensor"
            ]
          },
          "execution_count": 46,
          "metadata": {},
          "output_type": "execute_result"
        }
      ],
      "source": [
        "type(previsores_treinamento)"
      ]
    },
    {
      "cell_type": "code",
      "execution_count": 47,
      "metadata": {
        "colab": {
          "base_uri": "https://localhost:8080/",
          "height": 35
        },
        "id": "lqL8ypLSh79u",
        "outputId": "3a0f3c1d-54aa-4357-a469-8a42f44c6a0f"
      },
      "outputs": [
        {
          "data": {
            "text/plain": [
              "torch.Tensor"
            ]
          },
          "execution_count": 47,
          "metadata": {},
          "output_type": "execute_result"
        }
      ],
      "source": [
        "type(classe_treinamento)"
      ]
    },
    {
      "cell_type": "code",
      "execution_count": 48,
      "metadata": {
        "id": "__6a-iZhiJVI"
      },
      "outputs": [],
      "source": [
        "# une as duas variaveis em um conjunto só \n",
        "dataset = torch.utils.data.TensorDataset(previsores_treinamento, classe_treinamento)"
      ]
    },
    {
      "cell_type": "code",
      "execution_count": 49,
      "metadata": {
        "colab": {
          "base_uri": "https://localhost:8080/",
          "height": 35
        },
        "id": "t0sP_kvViZJl",
        "outputId": "92b278f4-800f-40fc-e10f-0a7194254b2b"
      },
      "outputs": [
        {
          "data": {
            "text/plain": [
              "torch.utils.data.dataset.TensorDataset"
            ]
          },
          "execution_count": 49,
          "metadata": {},
          "output_type": "execute_result"
        }
      ],
      "source": [
        "type(dataset)"
      ]
    },
    {
      "cell_type": "code",
      "execution_count": 50,
      "metadata": {
        "id": "5dIWzA4wihKD"
      },
      "outputs": [],
      "source": [
        "train_loader = torch.utils.data.DataLoader(dataset, batch_size=10, shuffle=True)"
      ]
    },
    {
      "cell_type": "markdown",
      "metadata": {
        "id": "QGDLesyDQpIb"
      },
      "source": [
        "## Etapa 4: Construção do modelo"
      ]
    },
    {
      "cell_type": "code",
      "execution_count": 51,
      "metadata": {
        "id": "1FAFgY56jmdG"
      },
      "outputs": [],
      "source": [
        "# 30 -> 16 -> 16 -> 1\n",
        "# (entradas + saida) / 2 = (30 + 1) / 2 = 16\n",
        "# linear quer dizer densa \n",
        "classificador = nn.Sequential(\n",
        "    nn.Linear(in_features=30, out_features=16),\n",
        "    nn.ReLU(),\n",
        "    nn.Linear(16, 16),\n",
        "    nn.ReLU(),\n",
        "    nn.Linear(16, 1),\n",
        "    nn.Sigmoid()\n",
        ")"
      ]
    },
    {
      "cell_type": "code",
      "execution_count": 52,
      "metadata": {
        "colab": {
          "base_uri": "https://localhost:8080/",
          "height": 155
        },
        "id": "ixwI_mhZlDVW",
        "outputId": "7208d62e-a589-42f4-c073-8eb3178b7fd1"
      },
      "outputs": [
        {
          "data": {
            "text/plain": [
              "<bound method Module.parameters of Sequential(\n",
              "  (0): Linear(in_features=30, out_features=16, bias=True)\n",
              "  (1): ReLU()\n",
              "  (2): Linear(in_features=16, out_features=16, bias=True)\n",
              "  (3): ReLU()\n",
              "  (4): Linear(in_features=16, out_features=1, bias=True)\n",
              "  (5): Sigmoid()\n",
              ")>"
            ]
          },
          "execution_count": 52,
          "metadata": {},
          "output_type": "execute_result"
        }
      ],
      "source": [
        "classificador.parameters"
      ]
    },
    {
      "cell_type": "code",
      "execution_count": 53,
      "metadata": {
        "id": "--bNcvlplMh9"
      },
      "outputs": [],
      "source": [
        "# binari cross entropy\n",
        "criterion = nn.BCELoss()"
      ]
    },
    {
      "cell_type": "code",
      "execution_count": 54,
      "metadata": {
        "id": "Um6Tr3s_lXHK"
      },
      "outputs": [],
      "source": [
        "# lr = learning hate\n",
        "# weight decay : para decair aos poucos para conseguir chegar no mínimo\n",
        "optimizer = torch.optim.Adam(classificador.parameters(), lr=0.001, weight_decay=0.0001)"
      ]
    },
    {
      "cell_type": "markdown",
      "metadata": {
        "id": "appMwDHtRTN5"
      },
      "source": [
        "## Etapa 5: Treinamento do modelo"
      ]
    },
    {
      "cell_type": "code",
      "execution_count": 55,
      "metadata": {
        "colab": {
          "base_uri": "https://localhost:8080/",
          "height": 1000
        },
        "id": "exieZFSam_eI",
        "outputId": "df1c5c39-0795-4b42-a4dd-5fbfcd775222"
      },
      "outputs": [
        {
          "name": "stdout",
          "output_type": "stream",
          "text": [
            "Época   1: perda 10.78336\n",
            "Época   2: perda 2.84864\n",
            "Época   3: perda 1.67480\n",
            "Época   4: perda 1.11414\n",
            "Época   5: perda 0.63996\n",
            "Época   6: perda 0.63753\n",
            "Época   7: perda 0.58066\n",
            "Época   8: perda 0.55460\n",
            "Época   9: perda 0.55617\n",
            "Época  10: perda 0.53322\n",
            "Época  11: perda 0.55797\n",
            "Época  12: perda 0.53816\n",
            "Época  13: perda 0.52938\n",
            "Época  14: perda 0.33227\n",
            "Época  15: perda 0.51360\n",
            "Época  16: perda 0.35532\n",
            "Época  17: perda 0.49602\n",
            "Época  18: perda 0.33208\n",
            "Época  19: perda 0.29349\n",
            "Época  20: perda 0.25046\n",
            "Época  21: perda 0.29527\n",
            "Época  22: perda 0.49888\n",
            "Época  23: perda 0.47241\n",
            "Época  24: perda 0.45883\n",
            "Época  25: perda 0.27544\n",
            "Época  26: perda 0.23399\n",
            "Época  27: perda 0.26373\n",
            "Época  28: perda 0.24136\n",
            "Época  29: perda 0.28275\n",
            "Época  30: perda 0.22633\n",
            "Época  31: perda 0.19294\n",
            "Época  32: perda 0.22258\n",
            "Época  33: perda 0.20290\n",
            "Época  34: perda 0.20888\n",
            "Época  35: perda 0.20335\n",
            "Época  36: perda 0.20316\n",
            "Época  37: perda 0.18855\n",
            "Época  38: perda 0.22316\n",
            "Época  39: perda 0.23315\n",
            "Época  40: perda 0.19261\n",
            "Época  41: perda 0.17163\n",
            "Época  42: perda 0.18287\n",
            "Época  43: perda 0.17056\n",
            "Época  44: perda 0.16674\n",
            "Época  45: perda 0.18515\n",
            "Época  46: perda 0.22250\n",
            "Época  47: perda 0.17558\n",
            "Época  48: perda 0.22754\n",
            "Época  49: perda 0.19838\n",
            "Época  50: perda 0.16372\n",
            "Época  51: perda 0.16854\n",
            "Época  52: perda 0.18337\n",
            "Época  53: perda 0.17596\n",
            "Época  54: perda 0.17882\n",
            "Época  55: perda 0.18470\n",
            "Época  56: perda 0.17070\n",
            "Época  57: perda 0.15698\n",
            "Época  58: perda 0.18550\n",
            "Época  59: perda 0.13970\n",
            "Época  60: perda 0.16062\n",
            "Época  61: perda 0.16865\n",
            "Época  62: perda 0.15084\n",
            "Época  63: perda 0.13656\n",
            "Época  64: perda 0.14919\n",
            "Época  65: perda 0.16352\n",
            "Época  66: perda 0.24313\n",
            "Época  67: perda 0.16440\n",
            "Época  68: perda 0.15935\n",
            "Época  69: perda 0.14267\n",
            "Época  70: perda 0.16159\n",
            "Época  71: perda 0.14759\n",
            "Época  72: perda 0.15789\n",
            "Época  73: perda 0.12313\n",
            "Época  74: perda 0.13982\n",
            "Época  75: perda 0.14227\n",
            "Época  76: perda 0.12895\n",
            "Época  77: perda 0.12276\n",
            "Época  78: perda 0.14855\n",
            "Época  79: perda 0.22008\n",
            "Época  80: perda 0.20448\n",
            "Época  81: perda 0.23247\n",
            "Época  82: perda 0.16739\n",
            "Época  83: perda 0.12073\n",
            "Época  84: perda 0.12849\n",
            "Época  85: perda 0.12597\n",
            "Época  86: perda 0.12376\n",
            "Época  87: perda 0.15789\n",
            "Época  88: perda 0.12874\n",
            "Época  89: perda 0.15042\n",
            "Época  90: perda 0.13076\n",
            "Época  91: perda 0.16186\n",
            "Época  92: perda 0.14431\n",
            "Época  93: perda 0.09702\n",
            "Época  94: perda 0.13241\n",
            "Época  95: perda 0.10748\n",
            "Época  96: perda 0.12752\n",
            "Época  97: perda 0.12629\n",
            "Época  98: perda 0.12295\n",
            "Época  99: perda 0.14163\n",
            "Época 100: perda 0.13735\n"
          ]
        }
      ],
      "source": [
        "for epoch in range(100):\n",
        "  running_loss = 0.\n",
        "\n",
        "  for data in train_loader:\n",
        "    inputs, labels = data\n",
        "    #print(inputs)\n",
        "    #print('-----')\n",
        "    #print(labels)\n",
        "    optimizer.zero_grad() #zera o gradiente para nao acumular\n",
        "\n",
        "    outputs = classificador(inputs) # classificador.forward(inputs) - previsoes\n",
        "    #print(outputs)\n",
        "    loss = criterion(outputs, labels) #calculo do erro das previsioes\n",
        "    #print(loss)\n",
        "    loss.backward() # backpropagation \n",
        "    optimizer.step() # para voltar atualizando os pesos\n",
        "\n",
        "    running_loss += loss.item()\n",
        "  print('Época %3d: perda %.5f' % (epoch+1, running_loss/len(train_loader)))"
      ]
    },
    {
      "cell_type": "markdown",
      "metadata": {
        "id": "ITUtUdQNSJcs"
      },
      "source": [
        "## Etapa 6: Visualização dos pesos"
      ]
    },
    {
      "cell_type": "code",
      "execution_count": 56,
      "metadata": {
        "id": "p0E2vbaGreGc"
      },
      "outputs": [],
      "source": [
        "# 30 -> 16 -> 16 -> 1\n",
        "params = list(classificador.parameters())"
      ]
    },
    {
      "cell_type": "code",
      "execution_count": 57,
      "metadata": {
        "colab": {
          "base_uri": "https://localhost:8080/",
          "height": 1000
        },
        "id": "y2sFTNaMroyw",
        "outputId": "97322664-0fde-4032-efaa-026e716084fa"
      },
      "outputs": [
        {
          "data": {
            "text/plain": [
              "[Parameter containing:\n",
              " tensor([[-6.9327e-02, -6.5608e-02, -1.7668e-01,  5.0619e-02, -1.5432e-01,\n",
              "           9.9403e-02, -1.3655e-01, -1.2683e-01, -2.2502e-01,  1.7858e-01,\n",
              "          -3.5831e-02,  5.3264e-02, -1.2382e-01, -1.1018e-01, -1.6242e-03,\n",
              "          -2.2239e-01, -3.9097e-01, -4.2912e-03,  1.1434e-01,  1.3120e-03,\n",
              "           1.4040e-01, -3.9942e-02, -3.6662e-02,  1.3844e-01,  4.9201e-01,\n",
              "           1.2918e-01, -1.8521e-01,  5.5129e-02,  2.9564e-01,  5.0145e-02],\n",
              "         [ 1.9549e-01,  2.0700e-01,  2.8711e-01,  9.7950e-02, -1.2939e-01,\n",
              "          -8.6149e-02, -7.1402e-02, -1.3798e-01, -3.2668e-02,  2.6224e-01,\n",
              "          -6.4298e-02, -9.0209e-02, -7.4134e-03,  1.6780e-01, -6.3848e-03,\n",
              "          -9.5674e-02, -1.1236e-02,  1.8277e-01,  4.2499e-02, -1.6785e-02,\n",
              "           9.8577e-02,  6.0318e-02,  1.9006e-01,  7.5953e-03, -1.5371e-02,\n",
              "          -2.4779e-01, -1.7234e-01, -6.9199e-04, -6.7060e-02, -1.6898e-01],\n",
              "         [-1.2048e-02, -4.0686e-02, -2.4179e-01, -1.0302e-01, -6.1449e-03,\n",
              "           4.9641e-02,  4.3503e-02,  2.5830e-02, -9.8564e-02,  2.8440e-01,\n",
              "           1.6174e-01,  9.3568e-02, -1.0363e-01,  5.8453e-02, -5.2333e-04,\n",
              "          -2.8358e-01,  2.8171e-02,  9.0277e-04,  4.2848e-01, -3.5659e-04,\n",
              "           3.7349e-02, -1.7798e-01, -7.3615e-02,  3.3764e-03, -2.6009e-01,\n",
              "          -1.2562e-01, -1.7684e-01,  1.0619e-01,  1.6732e-02, -1.0032e-02],\n",
              "         [-3.7159e-01,  4.9993e-02, -1.5379e-01,  8.7014e-02, -1.8426e-01,\n",
              "          -2.6404e-02,  8.6351e-03,  5.8095e-02,  1.4602e-01, -2.2251e-01,\n",
              "           1.9118e-01, -1.4926e-01,  3.6210e-02,  6.7980e-03, -1.0714e-04,\n",
              "           4.9415e-02,  2.1858e-02, -3.8519e-03,  1.2289e-01,  5.2857e-03,\n",
              "           5.9297e-02, -1.4794e-01, -7.6033e-02,  1.3001e-02,  2.3284e-01,\n",
              "           8.5530e-02,  2.7222e-02,  2.4881e-01,  1.0886e-01,  3.9676e-01],\n",
              "         [-4.3452e-01, -4.3185e-02, -1.3778e-01, -1.3497e-01,  3.7460e-01,\n",
              "           3.5293e-02,  1.2111e-01, -3.1248e-01, -2.8267e-01,  2.3346e-01,\n",
              "          -1.7973e-01,  2.5744e-02, -1.5675e-02,  7.1109e-02,  4.1279e-02,\n",
              "          -3.4544e-01, -3.0168e-01, -2.1950e-01,  3.5468e-01,  2.2910e-01,\n",
              "          -2.9635e-01, -1.3518e-02, -1.7052e-01,  2.4453e-01, -1.1122e-02,\n",
              "          -8.1999e-02, -4.2385e-01, -1.2195e-01,  2.3222e-03,  5.0426e-01],\n",
              "         [ 2.7990e-02, -2.2575e-02,  1.1071e-01,  1.1184e-01,  5.8117e-02,\n",
              "           4.3320e-01, -5.4070e-02,  3.1154e-01,  2.4745e-01, -8.7963e-02,\n",
              "           1.4592e-01,  1.5648e-01, -1.1011e-01,  1.3431e-01, -6.9959e-04,\n",
              "           3.2386e-01,  1.8706e-01,  9.1159e-02, -2.5442e-01, -8.1351e-02,\n",
              "           2.7504e-02, -1.8774e-01,  3.6895e-02, -2.0159e-02, -1.9236e-01,\n",
              "          -8.8160e-03, -8.4774e-02,  2.4266e-01,  6.9477e-02, -2.5783e-01],\n",
              "         [-4.7176e-03,  2.1396e-02,  3.0152e-01, -1.1767e-01, -2.3129e-01,\n",
              "          -5.2938e-01, -1.6160e-02, -3.0551e-02,  2.2882e-01,  2.2571e-02,\n",
              "          -1.0276e-01, -2.3938e-01,  6.0946e-02,  5.5201e-02, -2.6157e-03,\n",
              "          -2.4129e-02,  8.0163e-02, -7.1356e-03,  2.9906e-01, -5.8614e-03,\n",
              "           1.0528e-02, -7.0983e-02,  2.0047e-01, -9.9098e-02, -2.8818e-01,\n",
              "           1.2828e-01,  2.1596e-01, -1.9684e-01, -2.5493e-01,  5.1827e-02],\n",
              "         [-2.8506e-01, -9.4574e-03, -1.3331e-01, -1.6838e-01,  3.3652e-01,\n",
              "          -3.6250e-02, -1.2198e-02, -1.3546e-02, -4.1742e-02, -4.7703e-02,\n",
              "          -8.6423e-02, -1.1097e-01,  6.8462e-02,  1.0377e-01,  4.0447e-03,\n",
              "           2.0851e-02, -1.0730e-01,  1.3366e-02, -2.7995e-01,  8.4007e-03,\n",
              "          -2.0710e-01,  8.8629e-02, -2.9021e-01,  9.8910e-02, -4.9531e-02,\n",
              "          -3.0312e-01,  3.4184e-02,  1.3495e-01, -3.8865e-02,  5.2998e-02],\n",
              "         [ 8.5982e-02, -1.5781e-01, -3.8463e-01, -3.9522e-02,  3.7408e-01,\n",
              "           1.4678e-01, -3.9338e-01, -8.4321e-02,  1.1134e-01,  2.0843e-01,\n",
              "           1.7018e-01, -2.8314e-02,  1.0996e-01,  1.1044e-01,  8.0443e-03,\n",
              "          -1.6115e-01,  7.3803e-03, -2.6343e-01,  4.3172e-01, -1.5836e-02,\n",
              "          -2.5194e-01, -4.8340e-02, -2.9758e-01,  2.0771e-01, -2.3764e-02,\n",
              "           1.8924e-01, -7.9882e-02,  1.8781e-01,  1.0024e-01,  2.5736e-01],\n",
              "         [-2.5523e-02,  1.5077e-01,  2.8909e-01,  1.3992e-02, -3.2511e-01,\n",
              "          -1.2880e-01, -7.3139e-02,  1.7163e-01,  4.9588e-02,  1.0576e-01,\n",
              "           1.1161e-01, -1.7635e-01,  1.5183e-01, -1.7059e-01, -9.3080e-03,\n",
              "           2.6135e-02,  1.6614e-01,  1.2157e-01,  1.3423e-01, -1.9116e-01,\n",
              "           1.8709e-01, -1.3875e-01,  3.1211e-01, -7.6592e-02,  1.3481e-01,\n",
              "           5.7106e-03,  3.8717e-03, -8.5363e-02,  9.5098e-02, -1.5245e-01],\n",
              "         [-1.4015e-01, -5.3883e-02,  4.2818e-02,  2.5134e-02, -4.9463e-02,\n",
              "          -1.0297e-01, -1.4342e-01, -1.2483e-01,  2.5913e-01,  5.0303e-02,\n",
              "          -1.1967e-01,  5.3790e-02, -1.1338e-01,  1.7346e-01, -3.0356e-03,\n",
              "          -7.9576e-02, -7.0733e-02, -3.4585e-01, -1.5821e-01,  2.0693e-03,\n",
              "          -2.0374e-01, -1.0078e-01,  5.0966e-02,  1.2879e-01,  3.0402e-01,\n",
              "          -1.5606e-01,  3.1093e-01,  2.0795e-01, -1.3569e-01, -2.3555e-02],\n",
              "         [ 6.8419e-02, -6.0961e-03,  1.2572e-01,  1.3915e-01, -5.4019e-02,\n",
              "           2.3425e-01, -1.0016e-01,  2.5196e-01,  1.9956e-01, -9.8783e-02,\n",
              "           1.4205e-02,  9.1022e-02, -1.7055e-02, -3.2772e-01, -1.4813e-02,\n",
              "           3.7329e-01,  1.6844e-03,  3.3780e-01, -2.5230e-01, -1.7894e-01,\n",
              "           2.0502e-01, -3.9763e-02,  2.9966e-01, -1.4002e-01, -2.2669e-01,\n",
              "           1.7828e-01,  5.2427e-02,  8.4721e-02,  1.4241e-01, -4.6100e-01],\n",
              "         [ 1.1808e-01,  5.4840e-02, -2.6000e-01, -5.7842e-02,  1.4024e-01,\n",
              "           1.9313e-01,  2.6658e-01,  1.9200e-02, -8.5433e-02, -2.5047e-01,\n",
              "           1.2643e-01, -4.3606e-02,  1.0856e-01,  6.9560e-02, -3.7461e-03,\n",
              "          -4.9747e-02,  3.1743e-03,  2.8485e-02, -2.8001e-01,  1.4987e-01,\n",
              "           6.1446e-02,  1.4552e-01, -2.9349e-02,  4.1125e-02, -4.4407e-02,\n",
              "           1.2215e-01,  2.0233e-02, -2.4711e-01,  7.5709e-02,  1.3049e-01],\n",
              "         [ 8.9541e-02, -1.2250e-01, -1.1314e-01,  1.4815e-02,  6.1855e-02,\n",
              "           1.0715e-02, -1.2570e-01,  7.1466e-02, -4.0525e-02, -1.8618e-01,\n",
              "           1.8224e-01, -1.1378e-01, -1.6691e-01,  1.6242e-01,  4.3700e-03,\n",
              "           1.6120e-02,  1.5911e-01, -1.1373e-01,  3.4250e-01,  6.1344e-03,\n",
              "           1.2176e-01, -4.2458e-02, -9.3794e-02,  1.4619e-01, -3.5962e-02,\n",
              "          -2.4137e-01, -6.8020e-02,  1.0275e-01,  1.1648e-01,  2.1717e-02],\n",
              "         [ 5.7720e-02, -2.3591e-02,  4.5249e-02, -1.2951e-01, -1.8442e-16,\n",
              "          -6.3209e-13,  7.3961e-11, -6.7375e-40, -2.5949e-02,  2.1670e-23,\n",
              "          -6.8721e-05, -2.1423e-02, -2.5863e-02, -3.5407e-02,  2.4234e-39,\n",
              "           1.8433e-39, -1.5474e-02, -7.4757e-40,  2.1850e-39, -1.6118e-40,\n",
              "           7.1263e-02,  8.6057e-02, -1.0550e-01, -1.7020e-01, -8.6123e-13,\n",
              "          -7.3605e-04,  2.7527e-06, -2.9518e-20, -1.4366e-06, -4.0281e-18],\n",
              "         [ 5.6900e-39,  6.9124e-40, -3.3009e-39,  3.0176e-39, -1.2565e-39,\n",
              "           5.4144e-39,  3.5006e-40,  4.0067e-39,  4.6796e-39, -4.9575e-39,\n",
              "           8.2296e-40, -2.7345e-12, -7.1512e-09, -4.3838e-39,  2.4098e-39,\n",
              "           2.1442e-38, -4.9472e-39,  4.2958e-39,  4.1812e-39, -1.0401e-39,\n",
              "          -1.6815e-40,  2.7709e-39,  4.4604e-39, -1.2356e-27, -3.7559e-40,\n",
              "          -4.4232e-40, -5.3871e-40,  6.3528e-39, -5.0619e-39, -5.7086e-39]],\n",
              "        requires_grad=True),\n",
              " Parameter containing:\n",
              " tensor([-1.6404e-01,  2.6123e-01, -2.4320e-01, -2.4728e-01, -7.8077e-01,\n",
              "          1.9382e-01,  1.7963e-01, -2.7154e-01, -3.6968e-01,  4.3399e-01,\n",
              "         -2.8519e-01,  4.3034e-01, -2.9517e-01, -5.7381e-02, -1.1200e-03,\n",
              "         -4.0418e-39], requires_grad=True),\n",
              " Parameter containing:\n",
              " tensor([[-1.8809e-02, -2.5119e-02, -1.4728e-02,  4.1628e-02, -3.0076e-02,\n",
              "          -2.2283e-03, -1.8664e-02,  6.3882e-39, -1.5573e-01, -1.8368e-01,\n",
              "          -2.0228e-01,  5.7188e-02,  1.6598e-01,  2.1726e-01,  3.4539e-02,\n",
              "          -2.2914e-39],\n",
              "         [ 3.6238e-02, -1.6548e-01,  6.5244e-02,  4.4026e-03,  2.7539e-02,\n",
              "           1.3799e-01,  5.6548e-39, -6.5102e-40,  1.0065e-02, -2.4620e-01,\n",
              "          -4.8429e-02, -5.3597e-02, -1.7448e-01,  2.3049e-01, -5.7970e-39,\n",
              "           6.5090e-39],\n",
              "         [ 2.4203e-01, -4.4980e-02,  1.5367e-01,  1.5480e-01,  3.6652e-01,\n",
              "          -1.0344e-01, -4.6017e-02, -8.0349e-02,  2.3806e-01,  5.0572e-02,\n",
              "           2.9321e-04, -5.4108e-03,  2.2145e-01,  8.8676e-02,  6.6199e-02,\n",
              "          -7.1820e-03],\n",
              "         [-1.0781e-01,  8.2578e-02,  4.0901e-02, -1.9999e-01, -4.5575e-02,\n",
              "           5.8411e-02,  3.0002e-02, -6.0514e-02,  1.9664e-01,  8.5339e-02,\n",
              "          -3.0257e-01,  2.8685e-01,  1.6366e-01,  1.4284e-01,  9.9777e-02,\n",
              "           1.0746e-02],\n",
              "         [ 1.0971e-01, -7.6818e-03, -3.9675e-04, -2.5809e-01,  6.4939e-02,\n",
              "          -4.3993e-01,  1.2067e-01,  2.4823e-01,  3.5519e-02,  8.3187e-03,\n",
              "          -2.0982e-01,  1.1499e-01, -6.9074e-02, -7.9919e-02, -8.5177e-02,\n",
              "          -2.6728e-27],\n",
              "         [ 1.0388e-01, -3.2954e-02,  1.4919e-03, -1.4469e-01, -8.3399e-02,\n",
              "           6.1571e-02,  4.6797e-39,  6.8357e-40, -8.0173e-02, -9.5122e-02,\n",
              "          -1.0218e-01,  1.3108e-01, -1.8392e-01,  8.4768e-02,  2.9119e-04,\n",
              "          -2.6087e-39],\n",
              "         [-1.2510e-01, -4.0054e-02,  5.0493e-02, -7.7048e-03,  1.7273e-01,\n",
              "           1.5309e-01,  4.7597e-02, -1.2487e-01, -1.3670e-01, -2.0279e-01,\n",
              "           9.6069e-02,  1.1734e-02,  2.1308e-01,  2.2890e-01,  5.2271e-02,\n",
              "          -6.0354e-09],\n",
              "         [ 1.0847e-01,  1.8279e-02, -1.3512e-01, -6.1728e-02, -3.0510e-01,\n",
              "           1.2651e-01, -1.6862e-01, -1.6214e-01, -5.4052e-02,  1.4530e-01,\n",
              "           7.8001e-02,  6.8670e-02, -8.2353e-02, -1.7011e-01,  1.5939e-39,\n",
              "          -3.2767e-39],\n",
              "         [-1.2549e-01,  1.8052e-01, -1.7142e-01, -1.0396e-01,  1.6909e-01,\n",
              "           1.2529e-01,  1.3463e-01,  1.2371e-01, -8.6005e-02, -1.4547e-01,\n",
              "           7.5282e-02,  8.9472e-02, -5.6926e-02,  1.9969e-01, -1.1642e-01,\n",
              "           7.2273e-10],\n",
              "         [ 1.8939e-01,  1.1881e-01, -1.3810e-01,  9.2363e-02, -1.1957e-01,\n",
              "           6.1785e-02,  1.8471e-01, -2.2708e-01, -1.1851e-01,  2.0220e-01,\n",
              "          -2.1489e-01, -3.6927e-02, -9.4188e-02, -4.4394e-02,  1.0530e-02,\n",
              "          -9.9433e-03],\n",
              "         [ 7.2546e-02, -8.4661e-02, -5.1036e-02, -4.3696e-01, -3.6531e-01,\n",
              "          -1.2061e-03,  5.6496e-03, -1.8354e-02, -3.8022e-02, -5.7170e-02,\n",
              "           1.9609e-01, -3.1268e-02,  1.9782e-01,  1.4509e-01,  2.2407e-02,\n",
              "           1.5376e-03],\n",
              "         [ 1.1063e-01, -4.4492e-02, -1.7752e-01,  1.1071e-01, -4.0143e-02,\n",
              "           1.7197e-01, -2.1223e-39, -7.0328e-39, -2.7872e-01, -6.2609e-02,\n",
              "          -7.3418e-02,  1.5651e-01, -1.1846e-01, -2.1094e-01,  4.9138e-03,\n",
              "          -2.3214e-39],\n",
              "         [ 1.0177e-01, -7.8525e-02,  7.6331e-02, -1.5235e-01, -9.1756e-02,\n",
              "          -4.0809e-01,  6.9753e-02,  4.7553e-02,  1.8435e-01, -5.3513e-02,\n",
              "           1.4574e-01,  1.3260e-01,  5.2155e-02, -1.4861e-01, -1.0636e-02,\n",
              "          -2.8871e-03],\n",
              "         [-1.3109e-01,  2.4192e-01,  6.2567e-02, -7.9645e-02, -1.8450e-01,\n",
              "           6.9252e-02, -1.5850e-01,  9.9831e-02, -1.1532e-01,  2.2481e-02,\n",
              "           4.1788e-02,  1.0141e-01, -4.1407e-02,  3.6615e-02, -7.2727e-02,\n",
              "          -1.8791e-38],\n",
              "         [-2.8458e-03,  2.2485e-01,  6.0765e-02, -3.8502e-02, -1.2409e-01,\n",
              "          -5.6014e-02, -1.4342e-01, -1.0102e-01, -2.0477e-01,  1.8076e-01,\n",
              "           1.7425e-01,  3.5611e-02, -1.1500e-01, -2.1910e-01, -5.3413e-39,\n",
              "          -1.7553e-39],\n",
              "         [-1.7458e-02, -4.0691e-03,  1.1293e-02, -8.5154e-03,  5.1473e-03,\n",
              "          -1.0836e-03, -7.0239e-03, -1.1294e-02, -5.0175e-02, -4.8400e-02,\n",
              "          -1.6497e-02, -2.3168e-03, -5.8774e-02, -5.9937e-03, -5.1070e-39,\n",
              "          -1.9271e-39]], requires_grad=True),\n",
              " Parameter containing:\n",
              " tensor([-5.8829e-02, -2.6392e-01, -8.4208e-01,  5.2805e-01, -2.7086e-01,\n",
              "         -1.6037e-01, -1.2231e-01, -1.0281e-01,  9.9941e-02,  5.8311e-01,\n",
              "          3.3706e-01,  3.7652e-02, -5.7580e-01,  4.2523e-01,  2.6103e-01,\n",
              "          3.0162e-05], requires_grad=True),\n",
              " Parameter containing:\n",
              " tensor([[-0.1063, -0.0980, -0.1059,  0.1412, -0.0112, -0.0162, -0.1370, -0.0053,\n",
              "           0.1388,  0.2345,  0.1384,  0.1612, -0.0620,  0.1956,  0.0765, -0.0110]],\n",
              "        requires_grad=True),\n",
              " Parameter containing:\n",
              " tensor([0.7395], requires_grad=True)]"
            ]
          },
          "execution_count": 57,
          "metadata": {},
          "output_type": "execute_result"
        }
      ],
      "source": [
        "params"
      ]
    },
    {
      "cell_type": "code",
      "execution_count": 58,
      "metadata": {
        "colab": {
          "base_uri": "https://localhost:8080/",
          "height": 35
        },
        "id": "TaU6bV7lrusK",
        "outputId": "107e2fd6-0d10-4a94-9923-de8097267793"
      },
      "outputs": [
        {
          "data": {
            "text/plain": [
              "torch.Size([16, 30])"
            ]
          },
          "execution_count": 58,
          "metadata": {},
          "output_type": "execute_result"
        }
      ],
      "source": [
        "# 30 -> 16 -> 16 -> 1\n",
        "pesos0 = params[0]\n",
        "pesos0.shape"
      ]
    },
    {
      "cell_type": "code",
      "execution_count": 59,
      "metadata": {
        "colab": {
          "base_uri": "https://localhost:8080/",
          "height": 1000
        },
        "id": "JRIKPKKgr94O",
        "outputId": "7adb9449-23d5-4ec5-b080-b6e967863b29"
      },
      "outputs": [
        {
          "name": "stdout",
          "output_type": "stream",
          "text": [
            "Parameter containing:\n",
            "tensor([[-6.9327e-02, -6.5608e-02, -1.7668e-01,  5.0619e-02, -1.5432e-01,\n",
            "          9.9403e-02, -1.3655e-01, -1.2683e-01, -2.2502e-01,  1.7858e-01,\n",
            "         -3.5831e-02,  5.3264e-02, -1.2382e-01, -1.1018e-01, -1.6242e-03,\n",
            "         -2.2239e-01, -3.9097e-01, -4.2912e-03,  1.1434e-01,  1.3120e-03,\n",
            "          1.4040e-01, -3.9942e-02, -3.6662e-02,  1.3844e-01,  4.9201e-01,\n",
            "          1.2918e-01, -1.8521e-01,  5.5129e-02,  2.9564e-01,  5.0145e-02],\n",
            "        [ 1.9549e-01,  2.0700e-01,  2.8711e-01,  9.7950e-02, -1.2939e-01,\n",
            "         -8.6149e-02, -7.1402e-02, -1.3798e-01, -3.2668e-02,  2.6224e-01,\n",
            "         -6.4298e-02, -9.0209e-02, -7.4134e-03,  1.6780e-01, -6.3848e-03,\n",
            "         -9.5674e-02, -1.1236e-02,  1.8277e-01,  4.2499e-02, -1.6785e-02,\n",
            "          9.8577e-02,  6.0318e-02,  1.9006e-01,  7.5953e-03, -1.5371e-02,\n",
            "         -2.4779e-01, -1.7234e-01, -6.9199e-04, -6.7060e-02, -1.6898e-01],\n",
            "        [-1.2048e-02, -4.0686e-02, -2.4179e-01, -1.0302e-01, -6.1449e-03,\n",
            "          4.9641e-02,  4.3503e-02,  2.5830e-02, -9.8564e-02,  2.8440e-01,\n",
            "          1.6174e-01,  9.3568e-02, -1.0363e-01,  5.8453e-02, -5.2333e-04,\n",
            "         -2.8358e-01,  2.8171e-02,  9.0277e-04,  4.2848e-01, -3.5659e-04,\n",
            "          3.7349e-02, -1.7798e-01, -7.3615e-02,  3.3764e-03, -2.6009e-01,\n",
            "         -1.2562e-01, -1.7684e-01,  1.0619e-01,  1.6732e-02, -1.0032e-02],\n",
            "        [-3.7159e-01,  4.9993e-02, -1.5379e-01,  8.7014e-02, -1.8426e-01,\n",
            "         -2.6404e-02,  8.6351e-03,  5.8095e-02,  1.4602e-01, -2.2251e-01,\n",
            "          1.9118e-01, -1.4926e-01,  3.6210e-02,  6.7980e-03, -1.0714e-04,\n",
            "          4.9415e-02,  2.1858e-02, -3.8519e-03,  1.2289e-01,  5.2857e-03,\n",
            "          5.9297e-02, -1.4794e-01, -7.6033e-02,  1.3001e-02,  2.3284e-01,\n",
            "          8.5530e-02,  2.7222e-02,  2.4881e-01,  1.0886e-01,  3.9676e-01],\n",
            "        [-4.3452e-01, -4.3185e-02, -1.3778e-01, -1.3497e-01,  3.7460e-01,\n",
            "          3.5293e-02,  1.2111e-01, -3.1248e-01, -2.8267e-01,  2.3346e-01,\n",
            "         -1.7973e-01,  2.5744e-02, -1.5675e-02,  7.1109e-02,  4.1279e-02,\n",
            "         -3.4544e-01, -3.0168e-01, -2.1950e-01,  3.5468e-01,  2.2910e-01,\n",
            "         -2.9635e-01, -1.3518e-02, -1.7052e-01,  2.4453e-01, -1.1122e-02,\n",
            "         -8.1999e-02, -4.2385e-01, -1.2195e-01,  2.3222e-03,  5.0426e-01],\n",
            "        [ 2.7990e-02, -2.2575e-02,  1.1071e-01,  1.1184e-01,  5.8117e-02,\n",
            "          4.3320e-01, -5.4070e-02,  3.1154e-01,  2.4745e-01, -8.7963e-02,\n",
            "          1.4592e-01,  1.5648e-01, -1.1011e-01,  1.3431e-01, -6.9959e-04,\n",
            "          3.2386e-01,  1.8706e-01,  9.1159e-02, -2.5442e-01, -8.1351e-02,\n",
            "          2.7504e-02, -1.8774e-01,  3.6895e-02, -2.0159e-02, -1.9236e-01,\n",
            "         -8.8160e-03, -8.4774e-02,  2.4266e-01,  6.9477e-02, -2.5783e-01],\n",
            "        [-4.7176e-03,  2.1396e-02,  3.0152e-01, -1.1767e-01, -2.3129e-01,\n",
            "         -5.2938e-01, -1.6160e-02, -3.0551e-02,  2.2882e-01,  2.2571e-02,\n",
            "         -1.0276e-01, -2.3938e-01,  6.0946e-02,  5.5201e-02, -2.6157e-03,\n",
            "         -2.4129e-02,  8.0163e-02, -7.1356e-03,  2.9906e-01, -5.8614e-03,\n",
            "          1.0528e-02, -7.0983e-02,  2.0047e-01, -9.9098e-02, -2.8818e-01,\n",
            "          1.2828e-01,  2.1596e-01, -1.9684e-01, -2.5493e-01,  5.1827e-02],\n",
            "        [-2.8506e-01, -9.4574e-03, -1.3331e-01, -1.6838e-01,  3.3652e-01,\n",
            "         -3.6250e-02, -1.2198e-02, -1.3546e-02, -4.1742e-02, -4.7703e-02,\n",
            "         -8.6423e-02, -1.1097e-01,  6.8462e-02,  1.0377e-01,  4.0447e-03,\n",
            "          2.0851e-02, -1.0730e-01,  1.3366e-02, -2.7995e-01,  8.4007e-03,\n",
            "         -2.0710e-01,  8.8629e-02, -2.9021e-01,  9.8910e-02, -4.9531e-02,\n",
            "         -3.0312e-01,  3.4184e-02,  1.3495e-01, -3.8865e-02,  5.2998e-02],\n",
            "        [ 8.5982e-02, -1.5781e-01, -3.8463e-01, -3.9522e-02,  3.7408e-01,\n",
            "          1.4678e-01, -3.9338e-01, -8.4321e-02,  1.1134e-01,  2.0843e-01,\n",
            "          1.7018e-01, -2.8314e-02,  1.0996e-01,  1.1044e-01,  8.0443e-03,\n",
            "         -1.6115e-01,  7.3803e-03, -2.6343e-01,  4.3172e-01, -1.5836e-02,\n",
            "         -2.5194e-01, -4.8340e-02, -2.9758e-01,  2.0771e-01, -2.3764e-02,\n",
            "          1.8924e-01, -7.9882e-02,  1.8781e-01,  1.0024e-01,  2.5736e-01],\n",
            "        [-2.5523e-02,  1.5077e-01,  2.8909e-01,  1.3992e-02, -3.2511e-01,\n",
            "         -1.2880e-01, -7.3139e-02,  1.7163e-01,  4.9588e-02,  1.0576e-01,\n",
            "          1.1161e-01, -1.7635e-01,  1.5183e-01, -1.7059e-01, -9.3080e-03,\n",
            "          2.6135e-02,  1.6614e-01,  1.2157e-01,  1.3423e-01, -1.9116e-01,\n",
            "          1.8709e-01, -1.3875e-01,  3.1211e-01, -7.6592e-02,  1.3481e-01,\n",
            "          5.7106e-03,  3.8717e-03, -8.5363e-02,  9.5098e-02, -1.5245e-01],\n",
            "        [-1.4015e-01, -5.3883e-02,  4.2818e-02,  2.5134e-02, -4.9463e-02,\n",
            "         -1.0297e-01, -1.4342e-01, -1.2483e-01,  2.5913e-01,  5.0303e-02,\n",
            "         -1.1967e-01,  5.3790e-02, -1.1338e-01,  1.7346e-01, -3.0356e-03,\n",
            "         -7.9576e-02, -7.0733e-02, -3.4585e-01, -1.5821e-01,  2.0693e-03,\n",
            "         -2.0374e-01, -1.0078e-01,  5.0966e-02,  1.2879e-01,  3.0402e-01,\n",
            "         -1.5606e-01,  3.1093e-01,  2.0795e-01, -1.3569e-01, -2.3555e-02],\n",
            "        [ 6.8419e-02, -6.0961e-03,  1.2572e-01,  1.3915e-01, -5.4019e-02,\n",
            "          2.3425e-01, -1.0016e-01,  2.5196e-01,  1.9956e-01, -9.8783e-02,\n",
            "          1.4205e-02,  9.1022e-02, -1.7055e-02, -3.2772e-01, -1.4813e-02,\n",
            "          3.7329e-01,  1.6844e-03,  3.3780e-01, -2.5230e-01, -1.7894e-01,\n",
            "          2.0502e-01, -3.9763e-02,  2.9966e-01, -1.4002e-01, -2.2669e-01,\n",
            "          1.7828e-01,  5.2427e-02,  8.4721e-02,  1.4241e-01, -4.6100e-01],\n",
            "        [ 1.1808e-01,  5.4840e-02, -2.6000e-01, -5.7842e-02,  1.4024e-01,\n",
            "          1.9313e-01,  2.6658e-01,  1.9200e-02, -8.5433e-02, -2.5047e-01,\n",
            "          1.2643e-01, -4.3606e-02,  1.0856e-01,  6.9560e-02, -3.7461e-03,\n",
            "         -4.9747e-02,  3.1743e-03,  2.8485e-02, -2.8001e-01,  1.4987e-01,\n",
            "          6.1446e-02,  1.4552e-01, -2.9349e-02,  4.1125e-02, -4.4407e-02,\n",
            "          1.2215e-01,  2.0233e-02, -2.4711e-01,  7.5709e-02,  1.3049e-01],\n",
            "        [ 8.9541e-02, -1.2250e-01, -1.1314e-01,  1.4815e-02,  6.1855e-02,\n",
            "          1.0715e-02, -1.2570e-01,  7.1466e-02, -4.0525e-02, -1.8618e-01,\n",
            "          1.8224e-01, -1.1378e-01, -1.6691e-01,  1.6242e-01,  4.3700e-03,\n",
            "          1.6120e-02,  1.5911e-01, -1.1373e-01,  3.4250e-01,  6.1344e-03,\n",
            "          1.2176e-01, -4.2458e-02, -9.3794e-02,  1.4619e-01, -3.5962e-02,\n",
            "         -2.4137e-01, -6.8020e-02,  1.0275e-01,  1.1648e-01,  2.1717e-02],\n",
            "        [ 5.7720e-02, -2.3591e-02,  4.5249e-02, -1.2951e-01, -1.8442e-16,\n",
            "         -6.3209e-13,  7.3961e-11, -6.7375e-40, -2.5949e-02,  2.1670e-23,\n",
            "         -6.8721e-05, -2.1423e-02, -2.5863e-02, -3.5407e-02,  2.4234e-39,\n",
            "          1.8433e-39, -1.5474e-02, -7.4757e-40,  2.1850e-39, -1.6118e-40,\n",
            "          7.1263e-02,  8.6057e-02, -1.0550e-01, -1.7020e-01, -8.6123e-13,\n",
            "         -7.3605e-04,  2.7527e-06, -2.9518e-20, -1.4366e-06, -4.0281e-18],\n",
            "        [ 5.6900e-39,  6.9124e-40, -3.3009e-39,  3.0176e-39, -1.2565e-39,\n",
            "          5.4144e-39,  3.5006e-40,  4.0067e-39,  4.6796e-39, -4.9575e-39,\n",
            "          8.2296e-40, -2.7345e-12, -7.1512e-09, -4.3838e-39,  2.4098e-39,\n",
            "          2.1442e-38, -4.9472e-39,  4.2958e-39,  4.1812e-39, -1.0401e-39,\n",
            "         -1.6815e-40,  2.7709e-39,  4.4604e-39, -1.2356e-27, -3.7559e-40,\n",
            "         -4.4232e-40, -5.3871e-40,  6.3528e-39, -5.0619e-39, -5.7086e-39]],\n",
            "       requires_grad=True)\n"
          ]
        }
      ],
      "source": [
        "print(pesos0)"
      ]
    },
    {
      "cell_type": "code",
      "execution_count": 60,
      "metadata": {
        "colab": {
          "base_uri": "https://localhost:8080/",
          "height": 35
        },
        "id": "q42zQLHFsIWC",
        "outputId": "11ac5c44-e042-4e8a-9e59-49d873d2c35a"
      },
      "outputs": [
        {
          "data": {
            "text/plain": [
              "torch.Size([16])"
            ]
          },
          "execution_count": 60,
          "metadata": {},
          "output_type": "execute_result"
        }
      ],
      "source": [
        "# 30 -> 16 -> 16 -> 1\n",
        "bias0 = params[1]\n",
        "bias0.shape"
      ]
    },
    {
      "cell_type": "code",
      "execution_count": 61,
      "metadata": {
        "colab": {
          "base_uri": "https://localhost:8080/",
          "height": 35
        },
        "id": "3IWG8GFjsTr5",
        "outputId": "8170c305-39d6-438f-fd84-64b14225236c"
      },
      "outputs": [
        {
          "data": {
            "text/plain": [
              "torch.Size([16, 16])"
            ]
          },
          "execution_count": 61,
          "metadata": {},
          "output_type": "execute_result"
        }
      ],
      "source": [
        "pesos1 = params[2]\n",
        "pesos1.shape"
      ]
    },
    {
      "cell_type": "code",
      "execution_count": 62,
      "metadata": {
        "colab": {
          "base_uri": "https://localhost:8080/",
          "height": 35
        },
        "id": "yfgtWyWrsbbY",
        "outputId": "69541407-f90d-4535-b0cf-b8aef2a5678c"
      },
      "outputs": [
        {
          "data": {
            "text/plain": [
              "torch.Size([16])"
            ]
          },
          "execution_count": 62,
          "metadata": {},
          "output_type": "execute_result"
        }
      ],
      "source": [
        "bias1 = params[3]\n",
        "bias1.shape"
      ]
    },
    {
      "cell_type": "markdown",
      "metadata": {
        "id": "AyTjLzELSdQF"
      },
      "source": [
        "## Etapa 7: Avaliação do modelo"
      ]
    },
    {
      "cell_type": "code",
      "execution_count": 63,
      "metadata": {
        "colab": {
          "base_uri": "https://localhost:8080/",
          "height": 155
        },
        "id": "ZafmlssFs5SG",
        "outputId": "0ae6be37-f4c9-43d7-ac69-45688e3af448"
      },
      "outputs": [
        {
          "data": {
            "text/plain": [
              "Sequential(\n",
              "  (0): Linear(in_features=30, out_features=16, bias=True)\n",
              "  (1): ReLU()\n",
              "  (2): Linear(in_features=16, out_features=16, bias=True)\n",
              "  (3): ReLU()\n",
              "  (4): Linear(in_features=16, out_features=1, bias=True)\n",
              "  (5): Sigmoid()\n",
              ")"
            ]
          },
          "execution_count": 63,
          "metadata": {},
          "output_type": "execute_result"
        }
      ],
      "source": [
        "# coloca o classificador como modo de avaliação\n",
        "classificador.eval()"
      ]
    },
    {
      "cell_type": "code",
      "execution_count": 65,
      "metadata": {
        "colab": {
          "base_uri": "https://localhost:8080/",
          "height": 35
        },
        "id": "7C3BgZGGtJvp",
        "outputId": "5fc4efdb-1567-42d5-f819-f263f0d37e43"
      },
      "outputs": [
        {
          "data": {
            "text/plain": [
              "pandas.core.frame.DataFrame"
            ]
          },
          "execution_count": 65,
          "metadata": {},
          "output_type": "execute_result"
        }
      ],
      "source": [
        "type(previsores_teste)"
      ]
    },
    {
      "cell_type": "code",
      "execution_count": 66,
      "metadata": {
        "id": "PuL49MUEtOrh"
      },
      "outputs": [],
      "source": [
        "previsores_teste = torch.tensor(np.array(previsores_teste), dtype=torch.float)"
      ]
    },
    {
      "cell_type": "code",
      "execution_count": 67,
      "metadata": {
        "colab": {
          "base_uri": "https://localhost:8080/",
          "height": 35
        },
        "id": "LmAqJEHHtZNC",
        "outputId": "9cf4012f-9009-44d9-825c-175912856913"
      },
      "outputs": [
        {
          "data": {
            "text/plain": [
              "torch.Tensor"
            ]
          },
          "execution_count": 67,
          "metadata": {},
          "output_type": "execute_result"
        }
      ],
      "source": [
        "type(previsores_teste)"
      ]
    },
    {
      "cell_type": "code",
      "execution_count": 68,
      "metadata": {
        "id": "Fe8muTxbtc1G"
      },
      "outputs": [],
      "source": [
        "previsoes = classificador.forward(previsores_teste)"
      ]
    },
    {
      "cell_type": "code",
      "execution_count": 70,
      "metadata": {
        "colab": {
          "base_uri": "https://localhost:8080/",
          "height": 1000
        },
        "id": "fn0leHiAtqpx",
        "outputId": "a85b9b7f-998b-4bf0-fd54-650e1824e771"
      },
      "outputs": [
        {
          "data": {
            "text/plain": [
              "tensor([[9.9355e-01],\n",
              "        [1.0000e+00],\n",
              "        [3.6576e-01],\n",
              "        [9.5613e-01],\n",
              "        [1.7193e-04],\n",
              "        [8.6620e-01],\n",
              "        [9.5629e-01],\n",
              "        [9.9984e-01],\n",
              "        [6.8121e-01],\n",
              "        [6.8945e-01],\n",
              "        [9.4789e-01],\n",
              "        [9.9813e-01],\n",
              "        [8.9354e-01],\n",
              "        [9.9553e-01],\n",
              "        [9.9704e-01],\n",
              "        [8.5391e-01],\n",
              "        [9.9631e-01],\n",
              "        [1.0000e+00],\n",
              "        [3.8023e-01],\n",
              "        [9.9742e-01],\n",
              "        [8.3553e-10],\n",
              "        [1.1818e-02],\n",
              "        [4.8342e-01],\n",
              "        [1.0000e+00],\n",
              "        [9.1356e-01],\n",
              "        [5.3865e-03],\n",
              "        [8.6497e-01],\n",
              "        [1.0000e+00],\n",
              "        [2.4472e-04],\n",
              "        [9.9782e-01],\n",
              "        [5.5634e-01],\n",
              "        [9.9999e-01],\n",
              "        [8.9235e-01],\n",
              "        [9.8796e-01],\n",
              "        [4.3623e-01],\n",
              "        [9.9818e-01],\n",
              "        [6.4472e-01],\n",
              "        [9.9853e-01],\n",
              "        [9.9761e-01],\n",
              "        [4.9669e-05],\n",
              "        [7.6495e-03],\n",
              "        [9.2132e-01],\n",
              "        [1.3711e-07],\n",
              "        [3.2506e-01],\n",
              "        [8.6432e-05],\n",
              "        [6.5747e-01],\n",
              "        [2.8347e-04],\n",
              "        [1.6147e-31],\n",
              "        [6.5270e-01],\n",
              "        [1.2944e-02],\n",
              "        [9.6514e-01],\n",
              "        [7.1341e-15],\n",
              "        [9.8025e-01],\n",
              "        [9.6091e-01],\n",
              "        [9.9323e-01],\n",
              "        [6.2323e-01],\n",
              "        [9.9981e-01],\n",
              "        [9.9915e-08],\n",
              "        [4.9115e-06],\n",
              "        [9.9117e-01],\n",
              "        [1.3470e-04],\n",
              "        [9.9780e-01],\n",
              "        [9.9193e-01],\n",
              "        [9.9651e-01],\n",
              "        [6.2902e-01],\n",
              "        [6.1762e-08],\n",
              "        [1.0000e+00],\n",
              "        [1.0000e+00],\n",
              "        [1.0000e+00],\n",
              "        [7.6336e-01],\n",
              "        [1.0000e+00],\n",
              "        [9.6684e-01],\n",
              "        [1.4621e-01],\n",
              "        [9.2274e-01],\n",
              "        [7.7202e-04],\n",
              "        [9.9737e-01],\n",
              "        [9.4967e-01],\n",
              "        [9.1851e-10],\n",
              "        [2.6923e-06],\n",
              "        [3.3011e-01],\n",
              "        [9.0067e-01],\n",
              "        [7.2593e-06],\n",
              "        [2.8588e-07],\n",
              "        [9.9366e-01],\n",
              "        [1.0000e+00],\n",
              "        [1.0000e+00],\n",
              "        [1.3597e-01],\n",
              "        [9.9527e-01],\n",
              "        [1.9097e-03],\n",
              "        [7.4010e-01],\n",
              "        [1.8058e-02],\n",
              "        [9.7961e-01],\n",
              "        [9.8338e-01],\n",
              "        [2.6324e-02],\n",
              "        [9.9581e-01],\n",
              "        [9.9995e-01],\n",
              "        [9.9958e-01],\n",
              "        [9.9719e-01],\n",
              "        [1.4541e-02],\n",
              "        [1.0000e+00],\n",
              "        [9.9991e-01],\n",
              "        [1.0000e+00],\n",
              "        [9.9804e-01],\n",
              "        [9.8263e-01],\n",
              "        [9.5251e-01],\n",
              "        [1.0000e+00],\n",
              "        [1.0000e+00],\n",
              "        [9.9309e-01],\n",
              "        [1.0000e+00],\n",
              "        [9.9699e-01],\n",
              "        [1.0000e+00],\n",
              "        [9.9996e-01],\n",
              "        [8.4408e-01],\n",
              "        [1.0377e-05],\n",
              "        [9.3723e-01],\n",
              "        [3.0518e-04],\n",
              "        [9.9866e-01],\n",
              "        [8.0362e-04],\n",
              "        [9.9762e-01],\n",
              "        [9.9636e-01],\n",
              "        [8.8112e-01],\n",
              "        [7.3520e-01],\n",
              "        [9.9982e-01],\n",
              "        [9.9916e-01],\n",
              "        [4.2761e-07],\n",
              "        [9.9159e-01],\n",
              "        [8.7697e-03],\n",
              "        [3.2679e-01],\n",
              "        [1.0000e+00],\n",
              "        [9.9483e-01],\n",
              "        [1.4759e-09],\n",
              "        [9.1257e-01],\n",
              "        [1.0000e+00],\n",
              "        [2.2183e-02],\n",
              "        [1.3935e-06],\n",
              "        [9.6516e-01],\n",
              "        [9.8790e-01],\n",
              "        [9.9972e-01],\n",
              "        [7.4248e-02],\n",
              "        [1.8654e-05],\n",
              "        [1.1041e-05],\n",
              "        [9.9522e-01],\n",
              "        [4.0978e-11]], grad_fn=<SigmoidBackward0>)"
            ]
          },
          "execution_count": 70,
          "metadata": {},
          "output_type": "execute_result"
        }
      ],
      "source": [
        "previsoes"
      ]
    },
    {
      "cell_type": "code",
      "execution_count": 71,
      "metadata": {
        "colab": {
          "base_uri": "https://localhost:8080/",
          "height": 1000
        },
        "id": "MzALzgDet3Hr",
        "outputId": "19db47e8-a5fc-4226-8c32-145c47be31ad"
      },
      "outputs": [
        {
          "data": {
            "text/plain": [
              "array([[ True],\n",
              "       [ True],\n",
              "       [False],\n",
              "       [ True],\n",
              "       [False],\n",
              "       [ True],\n",
              "       [ True],\n",
              "       [ True],\n",
              "       [ True],\n",
              "       [ True],\n",
              "       [ True],\n",
              "       [ True],\n",
              "       [ True],\n",
              "       [ True],\n",
              "       [ True],\n",
              "       [ True],\n",
              "       [ True],\n",
              "       [ True],\n",
              "       [False],\n",
              "       [ True],\n",
              "       [False],\n",
              "       [False],\n",
              "       [False],\n",
              "       [ True],\n",
              "       [ True],\n",
              "       [False],\n",
              "       [ True],\n",
              "       [ True],\n",
              "       [False],\n",
              "       [ True],\n",
              "       [ True],\n",
              "       [ True],\n",
              "       [ True],\n",
              "       [ True],\n",
              "       [False],\n",
              "       [ True],\n",
              "       [ True],\n",
              "       [ True],\n",
              "       [ True],\n",
              "       [False],\n",
              "       [False],\n",
              "       [ True],\n",
              "       [False],\n",
              "       [False],\n",
              "       [False],\n",
              "       [ True],\n",
              "       [False],\n",
              "       [False],\n",
              "       [ True],\n",
              "       [False],\n",
              "       [ True],\n",
              "       [False],\n",
              "       [ True],\n",
              "       [ True],\n",
              "       [ True],\n",
              "       [ True],\n",
              "       [ True],\n",
              "       [False],\n",
              "       [False],\n",
              "       [ True],\n",
              "       [False],\n",
              "       [ True],\n",
              "       [ True],\n",
              "       [ True],\n",
              "       [ True],\n",
              "       [False],\n",
              "       [ True],\n",
              "       [ True],\n",
              "       [ True],\n",
              "       [ True],\n",
              "       [ True],\n",
              "       [ True],\n",
              "       [False],\n",
              "       [ True],\n",
              "       [False],\n",
              "       [ True],\n",
              "       [ True],\n",
              "       [False],\n",
              "       [False],\n",
              "       [False],\n",
              "       [ True],\n",
              "       [False],\n",
              "       [False],\n",
              "       [ True],\n",
              "       [ True],\n",
              "       [ True],\n",
              "       [False],\n",
              "       [ True],\n",
              "       [False],\n",
              "       [ True],\n",
              "       [False],\n",
              "       [ True],\n",
              "       [ True],\n",
              "       [False],\n",
              "       [ True],\n",
              "       [ True],\n",
              "       [ True],\n",
              "       [ True],\n",
              "       [False],\n",
              "       [ True],\n",
              "       [ True],\n",
              "       [ True],\n",
              "       [ True],\n",
              "       [ True],\n",
              "       [ True],\n",
              "       [ True],\n",
              "       [ True],\n",
              "       [ True],\n",
              "       [ True],\n",
              "       [ True],\n",
              "       [ True],\n",
              "       [ True],\n",
              "       [ True],\n",
              "       [False],\n",
              "       [ True],\n",
              "       [False],\n",
              "       [ True],\n",
              "       [False],\n",
              "       [ True],\n",
              "       [ True],\n",
              "       [ True],\n",
              "       [ True],\n",
              "       [ True],\n",
              "       [ True],\n",
              "       [False],\n",
              "       [ True],\n",
              "       [False],\n",
              "       [False],\n",
              "       [ True],\n",
              "       [ True],\n",
              "       [False],\n",
              "       [ True],\n",
              "       [ True],\n",
              "       [False],\n",
              "       [False],\n",
              "       [ True],\n",
              "       [ True],\n",
              "       [ True],\n",
              "       [False],\n",
              "       [False],\n",
              "       [False],\n",
              "       [ True],\n",
              "       [False]])"
            ]
          },
          "execution_count": 71,
          "metadata": {},
          "output_type": "execute_result"
        }
      ],
      "source": [
        "previsoes = np.array(previsoes > 0.5)\n",
        "previsoes"
      ]
    },
    {
      "cell_type": "code",
      "execution_count": 72,
      "metadata": {
        "colab": {
          "base_uri": "https://localhost:8080/",
          "height": 407
        },
        "id": "YVPFTbGeuSU5",
        "outputId": "bb9afbd9-ffb1-4ff6-f1d3-cd49f4ab61b5"
      },
      "outputs": [
        {
          "data": {
            "text/html": [
              "<div>\n",
              "<style scoped>\n",
              "    .dataframe tbody tr th:only-of-type {\n",
              "        vertical-align: middle;\n",
              "    }\n",
              "\n",
              "    .dataframe tbody tr th {\n",
              "        vertical-align: top;\n",
              "    }\n",
              "\n",
              "    .dataframe thead th {\n",
              "        text-align: right;\n",
              "    }\n",
              "</style>\n",
              "<table border=\"1\" class=\"dataframe\">\n",
              "  <thead>\n",
              "    <tr style=\"text-align: right;\">\n",
              "      <th></th>\n",
              "      <th>0</th>\n",
              "    </tr>\n",
              "  </thead>\n",
              "  <tbody>\n",
              "    <tr>\n",
              "      <th>333</th>\n",
              "      <td>1</td>\n",
              "    </tr>\n",
              "    <tr>\n",
              "      <th>273</th>\n",
              "      <td>1</td>\n",
              "    </tr>\n",
              "    <tr>\n",
              "      <th>201</th>\n",
              "      <td>0</td>\n",
              "    </tr>\n",
              "    <tr>\n",
              "      <th>178</th>\n",
              "      <td>1</td>\n",
              "    </tr>\n",
              "    <tr>\n",
              "      <th>85</th>\n",
              "      <td>0</td>\n",
              "    </tr>\n",
              "    <tr>\n",
              "      <th>...</th>\n",
              "      <td>...</td>\n",
              "    </tr>\n",
              "    <tr>\n",
              "      <th>230</th>\n",
              "      <td>0</td>\n",
              "    </tr>\n",
              "    <tr>\n",
              "      <th>282</th>\n",
              "      <td>0</td>\n",
              "    </tr>\n",
              "    <tr>\n",
              "      <th>535</th>\n",
              "      <td>0</td>\n",
              "    </tr>\n",
              "    <tr>\n",
              "      <th>436</th>\n",
              "      <td>1</td>\n",
              "    </tr>\n",
              "    <tr>\n",
              "      <th>236</th>\n",
              "      <td>0</td>\n",
              "    </tr>\n",
              "  </tbody>\n",
              "</table>\n",
              "<p>143 rows × 1 columns</p>\n",
              "</div>"
            ],
            "text/plain": [
              "     0\n",
              "333  1\n",
              "273  1\n",
              "201  0\n",
              "178  1\n",
              "85   0\n",
              "..  ..\n",
              "230  0\n",
              "282  0\n",
              "535  0\n",
              "436  1\n",
              "236  0\n",
              "\n",
              "[143 rows x 1 columns]"
            ]
          },
          "execution_count": 72,
          "metadata": {},
          "output_type": "execute_result"
        }
      ],
      "source": [
        "classe_teste"
      ]
    },
    {
      "cell_type": "code",
      "execution_count": 73,
      "metadata": {
        "colab": {
          "base_uri": "https://localhost:8080/",
          "height": 35
        },
        "id": "U7jfnFtZuNVn",
        "outputId": "318e00a5-c292-4d5b-f1af-263509b93d96"
      },
      "outputs": [
        {
          "data": {
            "text/plain": [
              "0.8951048951048951"
            ]
          },
          "execution_count": 73,
          "metadata": {},
          "output_type": "execute_result"
        }
      ],
      "source": [
        "taxa_acerto = accuracy_score(classe_teste, previsoes)\n",
        "taxa_acerto"
      ]
    },
    {
      "cell_type": "code",
      "execution_count": 74,
      "metadata": {
        "colab": {
          "base_uri": "https://localhost:8080/",
          "height": 52
        },
        "id": "g0Z3LgbcutQD",
        "outputId": "edd8f508-e9f6-45a5-fd4d-cb00dc357df2"
      },
      "outputs": [
        {
          "data": {
            "text/plain": [
              "array([[43, 11],\n",
              "       [ 4, 85]])"
            ]
          },
          "execution_count": 74,
          "metadata": {},
          "output_type": "execute_result"
        }
      ],
      "source": [
        "matriz = confusion_matrix(classe_teste, previsoes)\n",
        "matriz"
      ]
    },
    {
      "cell_type": "code",
      "execution_count": 75,
      "metadata": {
        "colab": {
          "base_uri": "https://localhost:8080/",
          "height": 265
        },
        "id": "BlaTftH_uzpv",
        "outputId": "9fc8e761-2d88-4c5f-ec84-ec9c543ac213"
      },
      "outputs": [
        {
          "data": {
            "image/png": "[encoded data removed]",
            "text/plain": [
              "<Figure size 640x480 with 2 Axes>"
            ]
          },
          "metadata": {},
          "output_type": "display_data"
        }
      ],
      "source": [
        "sns.heatmap(matriz, annot=True)"
      ]
    }
  ],
  "metadata": {
    "accelerator": "GPU",
    "colab": {
      "provenance": []
    },
    "kernelspec": {
      "display_name": "Python 3",
      "name": "python3"
    },
    "language_info": {
      "codemirror_mode": {
        "name": "ipython",
        "version": 3
      },
      "file_extension": ".py",
      "mimetype": "text/x-python",
      "name": "python",
      "nbconvert_exporter": "python",
      "pygments_lexer": "ipython3",
      "version": "3.10.12"
    }
  },
  "nbformat": 4,
  "nbformat_minor": 0
}
